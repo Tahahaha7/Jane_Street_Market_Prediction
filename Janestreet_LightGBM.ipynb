{
 "cells": [
  {
   "cell_type": "markdown",
   "metadata": {
    "id": "6_CdL6XCcV9a"
   },
   "source": [
    "# $\\text{Jane Street Market Prediction}$"
   ]
  },
  {
   "cell_type": "markdown",
   "metadata": {
    "id": "YN5hdEHxckI9"
   },
   "source": [
    "## $\\text{Getting the data}$"
   ]
  },
  {
   "cell_type": "markdown",
   "metadata": {},
   "source": [
    "## For Oscar:"
   ]
  },
  {
   "cell_type": "code",
   "execution_count": 128,
   "metadata": {},
   "outputs": [],
   "source": [
    "# Data\n",
    "import numpy as np\n",
    "import pandas as pd\n",
    "pd.set_option('display.max_columns', 500) #arbitrary large number, I wanna see all columns\n",
    "\n",
    "\n",
    "# Plotting\n",
    "import matplotlib.pyplot as plt\n",
    "import seaborn as sns; sns.set()\n",
    "\n",
    "#utilities\n",
    "import os\n",
    "from collections import Counter\n",
    "import random\n",
    "random.seed(42)"
   ]
  },
  {
   "cell_type": "code",
   "execution_count": 129,
   "metadata": {},
   "outputs": [
    {
     "name": "stdout",
     "output_type": "stream",
     "text": [
      "CPU times: user 57 s, sys: 12 s, total: 1min 9s\n",
      "Wall time: 1min 12s\n"
     ]
    }
   ],
   "source": [
    "%%time\n",
    "working_dir = \"/Users/oscarengelbrektson/Documents/Minerva/Spring 2021 - San Francisco/Quantitative Trading/Jane Street Competition/data/\"\n",
    "\n",
    "train_data = pd.read_csv(working_dir + \"train.csv\")\n",
    "test_data_sample = pd.read_csv(working_dir + \"example_test.csv\")\n",
    "feature_data = pd.read_csv(working_dir + \"features.csv\")\n"
   ]
  },
  {
   "cell_type": "code",
   "execution_count": 208,
   "metadata": {},
   "outputs": [
    {
     "data": {
      "text/plain": [
       "6762701"
      ]
     },
     "execution_count": 208,
     "metadata": {},
     "output_type": "execute_result"
    }
   ],
   "source": [
    "#number of trades with atleast 1 missing value\n",
    "train_data.isnull().values.ravel().sum()"
   ]
  },
  {
   "cell_type": "code",
   "execution_count": 209,
   "metadata": {},
   "outputs": [
    {
     "data": {
      "text/plain": [
       "2.8290008203335635"
      ]
     },
     "execution_count": 209,
     "metadata": {},
     "output_type": "execute_result"
    }
   ],
   "source": [
    "#Average Missing values per observations\n",
    "6762701 / train_data.shape[0]"
   ]
  },
  {
   "cell_type": "markdown",
   "metadata": {},
   "source": [
    "## For Taha"
   ]
  },
  {
   "cell_type": "code",
   "execution_count": 1,
   "metadata": {
    "colab": {
     "base_uri": "https://localhost:8080/"
    },
    "id": "0SAUcxFqv2oQ",
    "outputId": "03478b11-b83a-4fe8-ecc0-e58c3f38826a"
   },
   "outputs": [
    {
     "name": "stdout",
     "output_type": "stream",
     "text": [
      "Mounted at /content/gdrive\n"
     ]
    }
   ],
   "source": [
    "# getting access to Google Drive to retrieve data\n",
    "#from google.colab import drive\n",
    "#drive.mount('/content/gdrive')"
   ]
  },
  {
   "cell_type": "code",
   "execution_count": 2,
   "metadata": {
    "colab": {
     "base_uri": "https://localhost:8080/"
    },
    "id": "6QvyfvMLwUKX",
    "outputId": "e785c605-f6b5-4ce0-b4e0-4d4d45e0e84c"
   },
   "outputs": [
    {
     "name": "stdout",
     "output_type": "stream",
     "text": [
      "/content/gdrive/My Drive/Kaggle\n"
     ]
    }
   ],
   "source": [
    "# changing the working directory\n",
    "#%cd /content/gdrive/My Drive/Kaggle"
   ]
  },
  {
   "cell_type": "code",
   "execution_count": 3,
   "metadata": {
    "id": "lckIE5XFwZ0m"
   },
   "outputs": [],
   "source": [
    "'''\n",
    "!kaggle competitions download -c jane-street-market-prediction\n",
    "!unzip \\*.zip  && rm *.zip''';"
   ]
  },
  {
   "cell_type": "code",
   "execution_count": 7,
   "metadata": {
    "colab": {
     "base_uri": "https://localhost:8080/"
    },
    "id": "83lSp6EWUet9",
    "outputId": "ec978ba9-fc6a-48e2-e8fc-6c594f17d0bb"
   },
   "outputs": [
    {
     "name": "stdout",
     "output_type": "stream",
     "text": [
      "Wall time: 2min 7s\n"
     ]
    }
   ],
   "source": [
    "%%time\n",
    "train_data = pd.read_csv('C:/Users/Taha/Desktop/Spring 2021/JaneStreet/train.csv')"
   ]
  },
  {
   "cell_type": "code",
   "execution_count": 9,
   "metadata": {
    "colab": {
     "base_uri": "https://localhost:8080/"
    },
    "id": "Y181SDMKUrRv",
    "outputId": "48548331-57e3-40ff-b9c1-4b2b9fbd8b26"
   },
   "outputs": [],
   "source": [
    "# difference columns between train and test set\n",
    "#set(train_data.columns) - set(test_sample.columns)"
   ]
  },
  {
   "cell_type": "markdown",
   "metadata": {
    "id": "O-DO3WhVd0Gf"
   },
   "source": [
    "## $\\text{LightGMB}$"
   ]
  },
  {
   "cell_type": "markdown",
   "metadata": {
    "id": "yjyX3n4DJdf2"
   },
   "source": [
    "### $\\text{Data Processing}$"
   ]
  },
  {
   "cell_type": "code",
   "execution_count": 130,
   "metadata": {
    "id": "jqR4YUD0Jh6o"
   },
   "outputs": [],
   "source": [
    "#Get outcome variable by transforming resp > 0\n",
    "train_data[\"action\"] = train_data[\"resp\"].apply(lambda x: int(x>0))"
   ]
  },
  {
   "cell_type": "code",
   "execution_count": 131,
   "metadata": {
    "colab": {
     "base_uri": "https://localhost:8080/"
    },
    "id": "pZylOrxiKUaJ",
    "outputId": "c10d91a2-8694-4ec7-f023-7c3f979de8f8"
   },
   "outputs": [
    {
     "data": {
      "text/plain": [
       "(300, 100, 100)"
      ]
     },
     "execution_count": 131,
     "metadata": {},
     "output_type": "execute_result"
    }
   ],
   "source": [
    "#Train-validation-test split : 300-100-100\n",
    "train_set = train_data[train_data.date < 300]\n",
    "validation_set = train_data[(train_data.date >= 300) & (train_data.date < 400)]\n",
    "test_set = train_data[train_data.date >= 400]\n",
    "\n",
    "train_set.date.nunique(), validation_set.date.nunique(), test_set.date.nunique()"
   ]
  },
  {
   "cell_type": "code",
   "execution_count": 132,
   "metadata": {
    "colab": {
     "base_uri": "https://localhost:8080/"
    },
    "id": "iLCOMzYiOjTe",
    "outputId": "1101dca4-d9a3-4f3d-c88a-1e9fea453046"
   },
   "outputs": [
    {
     "data": {
      "text/plain": [
       "19.88"
      ]
     },
     "execution_count": 132,
     "metadata": {},
     "output_type": "execute_result"
    }
   ],
   "source": [
    "# percentage of trades in the test set\n",
    "round(100*validation_set.shape[0] / (train_data.shape[0]), 2)"
   ]
  },
  {
   "cell_type": "code",
   "execution_count": 134,
   "metadata": {
    "id": "OD89plgmOinY"
   },
   "outputs": [],
   "source": [
    "outcomes = ['resp', 'resp_1', 'resp_2', 'resp_3', 'resp_4', 'action', 'ts_id']\n",
    "predictors = list(filter(lambda x: x not in outcomes, train_data.columns))\n",
    "outcome = ['action']"
   ]
  },
  {
   "cell_type": "code",
   "execution_count": 135,
   "metadata": {},
   "outputs": [],
   "source": [
    "X_train, X_validation, y_train, y_validation = train_set[predictors],  validation_set[predictors], train_set[outcome], validation_set[outcome]\n",
    "X_test, y_test = test_set[predictors], test_set[outcome]\n"
   ]
  },
  {
   "cell_type": "markdown",
   "metadata": {
    "id": "aTirm3HUqrMX"
   },
   "source": [
    "### $\\text{LightGBM: One Split}$"
   ]
  },
  {
   "cell_type": "code",
   "execution_count": 136,
   "metadata": {},
   "outputs": [],
   "source": [
    "from sklearn.metrics import roc_auc_score, roc_curve, accuracy_score, confusion_matrix\n",
    "import lightgbm as lgb"
   ]
  },
  {
   "cell_type": "code",
   "execution_count": 137,
   "metadata": {
    "id": "X02XkFUmJkkB"
   },
   "outputs": [
    {
     "data": {
      "text/plain": [
       "LGBMClassifier()"
      ]
     },
     "execution_count": 137,
     "metadata": {},
     "output_type": "execute_result"
    }
   ],
   "source": [
    "\n",
    "\n",
    "#print(X_train.shape, X_validation.shape, y_train.shape, y_validation.shape)\n",
    "\n",
    "lgb_model = lgb.LGBMClassifier()\n",
    "lgb_model.fit(X_train, y_train.values.reshape(len(y_train),), verbose=True)"
   ]
  },
  {
   "cell_type": "code",
   "execution_count": 138,
   "metadata": {
    "id": "5Y2tUL00sKAB"
   },
   "outputs": [],
   "source": [
    "y_pred = lgb_model.predict(X_validation)"
   ]
  },
  {
   "cell_type": "code",
   "execution_count": 139,
   "metadata": {
    "id": "2Op3WLb1sJ8T"
   },
   "outputs": [
    {
     "name": "stdout",
     "output_type": "stream",
     "text": [
      "Accuracy of model is:  0.5148584846113061\n"
     ]
    }
   ],
   "source": [
    "print(\"Accuracy of model is: \", accuracy_score(y_validation, y_pred))"
   ]
  },
  {
   "cell_type": "code",
   "execution_count": 140,
   "metadata": {
    "id": "bJfvTi_xsJ51"
   },
   "outputs": [
    {
     "name": "stdout",
     "output_type": "stream",
     "text": [
      "Training set score: 0.5663\n",
      "Test set score: 0.5149\n"
     ]
    }
   ],
   "source": [
    "print('Training set score: {:.4f}'.format(lgb_model.score(X_train, y_train)))\n",
    "print('Test set score: {:.4f}'.format(lgb_model.score(X_validation, y_validation)))"
   ]
  },
  {
   "cell_type": "code",
   "execution_count": 141,
   "metadata": {
    "id": "1kq4mvXJsP0q"
   },
   "outputs": [
    {
     "data": {
      "image/png": "[encoded data removed]",
      "text/plain": [
       "<Figure size 576x432 with 2 Axes>"
      ]
     },
     "metadata": {},
     "output_type": "display_data"
    }
   ],
   "source": [
    "import seaborn as sns\n",
    "\n",
    "def plot_cm(cm):\n",
    "    group_names = ['True Neg', 'False Pos', 'False Neg', 'True Pos']\n",
    "    group_counts = ['{0:0.0f}'.format(value) for value in cm.flatten()]\n",
    "    group_percentages = ['{0:.2%}'.format(value) for value in cm.flatten()/np.sum(cm)]\n",
    "    labels = [f'{v1}\\n{v2}\\n{v3}' for v1, v2, v3 in\n",
    "              zip(group_names, group_counts, group_percentages)]\n",
    "    labels = np.asarray(labels).reshape(2,2)\n",
    "    sns.set(rc={'figure.figsize':(8, 6)})\n",
    "    sns.heatmap(cm, annot=labels, fmt='', cmap='Blues', alpha=.75)\n",
    "    \n",
    "plot_cm(confusion_matrix(y_validation, y_pred));"
   ]
  },
  {
   "cell_type": "markdown",
   "metadata": {
    "id": "SkQOyMEasubd"
   },
   "source": [
    "### $\\text{Hyperparameter Tunning: Bayesian Optimization}$"
   ]
  },
  {
   "cell_type": "code",
   "execution_count": 142,
   "metadata": {
    "id": "1hNA8QuYsPxJ"
   },
   "outputs": [],
   "source": [
    "def lgbm_cv(learning_rate, num_leaves, \n",
    "            min_data_in_leaf, max_bin,\n",
    "            max_depth):\n",
    "    \n",
    "    estimator_function = lgb.LGBMClassifier(max_depth=int(max_depth),\n",
    "                                            learning_rate = learning_rate,\n",
    "                                            num_leaves = int(num_leaves),\n",
    "                                            min_data_in_leaf = int(min_data_in_leaf),\n",
    "                                            max_bin=int(max_bin),\n",
    "                                            objective = 'binary', \n",
    "                                            boosting= 'gbdt',\n",
    "                                            nthread=10,\n",
    "                                            seed = 42,\n",
    "                                            verbose = -1)\n",
    "    \n",
    "    estimator_function.fit(X_train, y_train.values.reshape(len(y_train),))\n",
    "    probs = estimator_function.predict_proba(X_validation)[:,1]\n",
    "    return roc_auc_score(y_validation, probs)"
   ]
  },
  {
   "cell_type": "code",
   "execution_count": 143,
   "metadata": {
    "id": "UW17UKJrsPuE"
   },
   "outputs": [],
   "source": [
    "from bayes_opt import BayesianOptimization\n",
    "\n",
    "gp_params = {\"alpha\": 1e-10}\n",
    "\n",
    "hp_space = {'learning_rate': (0.001, 0.1),\n",
    "          'num_leaves': (100, 300),\n",
    "          'min_data_in_leaf': (5, 20),\n",
    "          'max_bin': (150, 250),\n",
    "          'max_depth': (2, 15)}\n",
    "\n",
    "lgbcBO = BayesianOptimization(f=lgbm_cv, pbounds=hp_space, random_state=42, verbose=-1)"
   ]
  },
  {
   "cell_type": "code",
   "execution_count": 144,
   "metadata": {
    "id": "O12GSloVsPq9",
    "scrolled": false
   },
   "outputs": [
    {
     "name": "stdout",
     "output_type": "stream",
     "text": [
      "|   iter    |  target   | learni... |  max_bin  | max_depth | min_da... | num_le... |\n",
      "-------------------------------------------------------------------------------------\n",
      "[LightGBM] [Warning] num_threads is set with nthread=10, will be overridden by n_jobs=-1. Current value: num_threads=-1\n",
      "[LightGBM] [Warning] min_data_in_leaf is set=13, min_child_samples=20 will be ignored. Current value: min_data_in_leaf=13\n",
      "[LightGBM] [Warning] boosting is set=gbdt, boosting_type=gbdt will be ignored. Current value: boosting=gbdt\n",
      "| \u001b[0m 1       \u001b[0m | \u001b[0m 0.5189  \u001b[0m | \u001b[0m 0.03808 \u001b[0m | \u001b[0m 245.1   \u001b[0m | \u001b[0m 11.52   \u001b[0m | \u001b[0m 13.98   \u001b[0m | \u001b[0m 131.2   \u001b[0m |\n",
      "[LightGBM] [Warning] num_threads is set with nthread=10, will be overridden by n_jobs=-1. Current value: num_threads=-1\n",
      "[LightGBM] [Warning] min_data_in_leaf is set=14, min_child_samples=20 will be ignored. Current value: min_data_in_leaf=14\n",
      "[LightGBM] [Warning] boosting is set=gbdt, boosting_type=gbdt will be ignored. Current value: boosting=gbdt\n",
      "| \u001b[95m 2       \u001b[0m | \u001b[95m 0.5195  \u001b[0m | \u001b[95m 0.01644 \u001b[0m | \u001b[95m 155.8   \u001b[0m | \u001b[95m 13.26   \u001b[0m | \u001b[95m 14.02   \u001b[0m | \u001b[95m 241.6   \u001b[0m |\n",
      "[LightGBM] [Warning] num_threads is set with nthread=10, will be overridden by n_jobs=-1. Current value: num_threads=-1\n",
      "[LightGBM] [Warning] min_data_in_leaf is set=8, min_child_samples=20 will be ignored. Current value: min_data_in_leaf=8\n",
      "[LightGBM] [Warning] boosting is set=gbdt, boosting_type=gbdt will be ignored. Current value: boosting=gbdt\n",
      "| \u001b[0m 3       \u001b[0m | \u001b[0m 0.5143  \u001b[0m | \u001b[0m 0.003038\u001b[0m | \u001b[0m 247.0   \u001b[0m | \u001b[0m 12.82   \u001b[0m | \u001b[0m 8.185   \u001b[0m | \u001b[0m 136.4   \u001b[0m |\n",
      "[LightGBM] [Warning] num_threads is set with nthread=10, will be overridden by n_jobs=-1. Current value: num_threads=-1\n",
      "[LightGBM] [Warning] min_data_in_leaf is set=11, min_child_samples=20 will be ignored. Current value: min_data_in_leaf=11\n",
      "[LightGBM] [Warning] boosting is set=gbdt, boosting_type=gbdt will be ignored. Current value: boosting=gbdt\n",
      "| \u001b[0m 4       \u001b[0m | \u001b[0m 0.5172  \u001b[0m | \u001b[0m 0.01916 \u001b[0m | \u001b[0m 180.4   \u001b[0m | \u001b[0m 8.822   \u001b[0m | \u001b[0m 11.48   \u001b[0m | \u001b[0m 158.2   \u001b[0m |\n",
      "[LightGBM] [Warning] num_threads is set with nthread=10, will be overridden by n_jobs=-1. Current value: num_threads=-1\n",
      "[LightGBM] [Warning] min_data_in_leaf is set=10, min_child_samples=20 will be ignored. Current value: min_data_in_leaf=10\n",
      "[LightGBM] [Warning] boosting is set=gbdt, boosting_type=gbdt will be ignored. Current value: boosting=gbdt\n",
      "| \u001b[0m 5       \u001b[0m | \u001b[0m 0.5163  \u001b[0m | \u001b[0m 0.06157 \u001b[0m | \u001b[0m 163.9   \u001b[0m | \u001b[0m 5.798   \u001b[0m | \u001b[0m 10.5    \u001b[0m | \u001b[0m 191.2   \u001b[0m |\n",
      "[LightGBM] [Warning] num_threads is set with nthread=10, will be overridden by n_jobs=-1. Current value: num_threads=-1\n",
      "[LightGBM] [Warning] min_data_in_leaf is set=17, min_child_samples=20 will be ignored. Current value: min_data_in_leaf=17\n",
      "[LightGBM] [Warning] boosting is set=gbdt, boosting_type=gbdt will be ignored. Current value: boosting=gbdt\n",
      "| \u001b[0m 6       \u001b[0m | \u001b[0m 0.5191  \u001b[0m | \u001b[0m 0.03932 \u001b[0m | \u001b[0m 219.1   \u001b[0m | \u001b[0m 5.355   \u001b[0m | \u001b[0m 17.48   \u001b[0m | \u001b[0m 222.0   \u001b[0m |\n",
      "[LightGBM] [Warning] num_threads is set with nthread=10, will be overridden by n_jobs=-1. Current value: num_threads=-1\n",
      "[LightGBM] [Warning] min_data_in_leaf is set=18, min_child_samples=20 will be ignored. Current value: min_data_in_leaf=18\n",
      "[LightGBM] [Warning] boosting is set=gbdt, boosting_type=gbdt will be ignored. Current value: boosting=gbdt\n",
      "| \u001b[0m 7       \u001b[0m | \u001b[0m 0.5169  \u001b[0m | \u001b[0m 0.09073 \u001b[0m | \u001b[0m 160.5   \u001b[0m | \u001b[0m 3.915   \u001b[0m | \u001b[0m 18.88   \u001b[0m | \u001b[0m 254.1   \u001b[0m |\n",
      "[LightGBM] [Warning] num_threads is set with nthread=10, will be overridden by n_jobs=-1. Current value: num_threads=-1\n",
      "[LightGBM] [Warning] min_data_in_leaf is set=6, min_child_samples=20 will be ignored. Current value: min_data_in_leaf=6\n",
      "[LightGBM] [Warning] boosting is set=gbdt, boosting_type=gbdt will be ignored. Current value: boosting=gbdt\n",
      "| \u001b[0m 8       \u001b[0m | \u001b[0m 0.5163  \u001b[0m | \u001b[0m 0.05882 \u001b[0m | \u001b[0m 154.8   \u001b[0m | \u001b[0m 2.466   \u001b[0m | \u001b[0m 6.568   \u001b[0m | \u001b[0m 146.6   \u001b[0m |\n",
      "[LightGBM] [Warning] num_threads is set with nthread=10, will be overridden by n_jobs=-1. Current value: num_threads=-1\n",
      "[LightGBM] [Warning] min_data_in_leaf is set=11, min_child_samples=20 will be ignored. Current value: min_data_in_leaf=11\n",
      "[LightGBM] [Warning] boosting is set=gbdt, boosting_type=gbdt will be ignored. Current value: boosting=gbdt\n",
      "| \u001b[0m 9       \u001b[0m | \u001b[0m 0.5181  \u001b[0m | \u001b[0m 0.04739 \u001b[0m | \u001b[0m 249.3   \u001b[0m | \u001b[0m 13.98   \u001b[0m | \u001b[0m 11.48   \u001b[0m | \u001b[0m 163.1   \u001b[0m |\n",
      "[LightGBM] [Warning] num_threads is set with nthread=10, will be overridden by n_jobs=-1. Current value: num_threads=-1\n",
      "[LightGBM] [Warning] min_data_in_leaf is set=9, min_child_samples=20 will be ignored. Current value: min_data_in_leaf=9\n",
      "[LightGBM] [Warning] boosting is set=gbdt, boosting_type=gbdt will be ignored. Current value: boosting=gbdt\n",
      "| \u001b[0m 10      \u001b[0m | \u001b[0m 0.5178  \u001b[0m | \u001b[0m 0.08095 \u001b[0m | \u001b[0m 167.6   \u001b[0m | \u001b[0m 6.117   \u001b[0m | \u001b[0m 9.033   \u001b[0m | \u001b[0m 245.2   \u001b[0m |\n",
      "[LightGBM] [Warning] num_threads is set with nthread=10, will be overridden by n_jobs=-1. Current value: num_threads=-1\n",
      "[LightGBM] [Warning] min_data_in_leaf is set=13, min_child_samples=20 will be ignored. Current value: min_data_in_leaf=13\n",
      "[LightGBM] [Warning] boosting is set=gbdt, boosting_type=gbdt will be ignored. Current value: boosting=gbdt\n",
      "| \u001b[0m 11      \u001b[0m | \u001b[0m 0.5174  \u001b[0m | \u001b[0m 0.04964 \u001b[0m | \u001b[0m 175.6   \u001b[0m | \u001b[0m 11.56   \u001b[0m | \u001b[0m 13.94   \u001b[0m | \u001b[0m 259.6   \u001b[0m |\n",
      "[LightGBM] [Warning] num_threads is set with nthread=10, will be overridden by n_jobs=-1. Current value: num_threads=-1\n",
      "[LightGBM] [Warning] min_data_in_leaf is set=9, min_child_samples=20 will be ignored. Current value: min_data_in_leaf=9\n",
      "[LightGBM] [Warning] boosting is set=gbdt, boosting_type=gbdt will be ignored. Current value: boosting=gbdt\n",
      "| \u001b[0m 12      \u001b[0m | \u001b[0m 0.5163  \u001b[0m | \u001b[0m 0.008471\u001b[0m | \u001b[0m 231.2   \u001b[0m | \u001b[0m 8.067   \u001b[0m | \u001b[0m 9.587   \u001b[0m | \u001b[0m 159.7   \u001b[0m |\n",
      "[LightGBM] [Warning] num_threads is set with nthread=10, will be overridden by n_jobs=-1. Current value: num_threads=-1\n",
      "[LightGBM] [Warning] min_data_in_leaf is set=16, min_child_samples=20 will be ignored. Current value: min_data_in_leaf=16\n",
      "[LightGBM] [Warning] boosting is set=gbdt, boosting_type=gbdt will be ignored. Current value: boosting=gbdt\n",
      "| \u001b[0m 13      \u001b[0m | \u001b[0m 0.5161  \u001b[0m | \u001b[0m 0.009168\u001b[0m | \u001b[0m 240.4   \u001b[0m | \u001b[0m 9.719   \u001b[0m | \u001b[0m 16.25   \u001b[0m | \u001b[0m 249.6   \u001b[0m |\n",
      "[LightGBM] [Warning] num_threads is set with nthread=10, will be overridden by n_jobs=-1. Current value: num_threads=-1\n",
      "[LightGBM] [Warning] min_data_in_leaf is set=11, min_child_samples=20 will be ignored. Current value: min_data_in_leaf=11\n",
      "[LightGBM] [Warning] boosting is set=gbdt, boosting_type=gbdt will be ignored. Current value: boosting=gbdt\n",
      "| \u001b[0m 14      \u001b[0m | \u001b[0m 0.516   \u001b[0m | \u001b[0m 0.07309 \u001b[0m | \u001b[0m 216.7   \u001b[0m | \u001b[0m 14.93   \u001b[0m | \u001b[0m 11.1    \u001b[0m | \u001b[0m 207.7   \u001b[0m |\n",
      "[LightGBM] [Warning] num_threads is set with nthread=10, will be overridden by n_jobs=-1. Current value: num_threads=-1\n",
      "[LightGBM] [Warning] min_data_in_leaf is set=7, min_child_samples=20 will be ignored. Current value: min_data_in_leaf=7\n",
      "[LightGBM] [Warning] boosting is set=gbdt, boosting_type=gbdt will be ignored. Current value: boosting=gbdt\n",
      "| \u001b[0m 15      \u001b[0m | \u001b[0m 0.5176  \u001b[0m | \u001b[0m 0.01423 \u001b[0m | \u001b[0m 223.7   \u001b[0m | \u001b[0m 5.918   \u001b[0m | \u001b[0m 7.843   \u001b[0m | \u001b[0m 145.4   \u001b[0m |\n",
      "[LightGBM] [Warning] num_threads is set with nthread=10, will be overridden by n_jobs=-1. Current value: num_threads=-1\n",
      "[LightGBM] [Warning] min_data_in_leaf is set=16, min_child_samples=20 will be ignored. Current value: min_data_in_leaf=16\n",
      "[LightGBM] [Warning] boosting is set=gbdt, boosting_type=gbdt will be ignored. Current value: boosting=gbdt\n",
      "| \u001b[0m 16      \u001b[0m | \u001b[0m 0.5149  \u001b[0m | \u001b[0m 0.02787 \u001b[0m | \u001b[0m 215.2   \u001b[0m | \u001b[0m 2.808   \u001b[0m | \u001b[0m 16.21   \u001b[0m | \u001b[0m 291.9   \u001b[0m |\n",
      "[LightGBM] [Warning] num_threads is set with nthread=10, will be overridden by n_jobs=-1. Current value: num_threads=-1\n",
      "[LightGBM] [Warning] min_data_in_leaf is set=18, min_child_samples=20 will be ignored. Current value: min_data_in_leaf=18\n",
      "[LightGBM] [Warning] boosting is set=gbdt, boosting_type=gbdt will be ignored. Current value: boosting=gbdt\n"
     ]
    },
    {
     "name": "stdout",
     "output_type": "stream",
     "text": [
      "| \u001b[0m 17      \u001b[0m | \u001b[0m 0.5164  \u001b[0m | \u001b[0m 0.01722 \u001b[0m | \u001b[0m 160.1   \u001b[0m | \u001b[0m 5.093   \u001b[0m | \u001b[0m 18.68   \u001b[0m | \u001b[0m 259.0   \u001b[0m |\n",
      "[LightGBM] [Warning] num_threads is set with nthread=10, will be overridden by n_jobs=-1. Current value: num_threads=-1\n",
      "[LightGBM] [Warning] min_data_in_leaf is set=13, min_child_samples=20 will be ignored. Current value: min_data_in_leaf=13\n",
      "[LightGBM] [Warning] boosting is set=gbdt, boosting_type=gbdt will be ignored. Current value: boosting=gbdt\n",
      "| \u001b[0m 18      \u001b[0m | \u001b[0m 0.5179  \u001b[0m | \u001b[0m 0.03093 \u001b[0m | \u001b[0m 156.7   \u001b[0m | \u001b[0m 14.93   \u001b[0m | \u001b[0m 13.53   \u001b[0m | \u001b[0m 241.7   \u001b[0m |\n",
      "[LightGBM] [Warning] num_threads is set with nthread=10, will be overridden by n_jobs=-1. Current value: num_threads=-1\n",
      "[LightGBM] [Warning] min_data_in_leaf is set=14, min_child_samples=20 will be ignored. Current value: min_data_in_leaf=14\n",
      "[LightGBM] [Warning] boosting is set=gbdt, boosting_type=gbdt will be ignored. Current value: boosting=gbdt\n",
      "| \u001b[0m 19      \u001b[0m | \u001b[0m 0.5187  \u001b[0m | \u001b[0m 0.09406 \u001b[0m | \u001b[0m 243.7   \u001b[0m | \u001b[0m 11.65   \u001b[0m | \u001b[0m 14.91   \u001b[0m | \u001b[0m 132.5   \u001b[0m |\n",
      "[LightGBM] [Warning] num_threads is set with nthread=10, will be overridden by n_jobs=-1. Current value: num_threads=-1\n",
      "[LightGBM] [Warning] min_data_in_leaf is set=16, min_child_samples=20 will be ignored. Current value: min_data_in_leaf=16\n",
      "[LightGBM] [Warning] boosting is set=gbdt, boosting_type=gbdt will be ignored. Current value: boosting=gbdt\n",
      "| \u001b[95m 20      \u001b[0m | \u001b[95m 0.5196  \u001b[0m | \u001b[95m 0.0204  \u001b[0m | \u001b[95m 157.9   \u001b[0m | \u001b[95m 13.19   \u001b[0m | \u001b[95m 16.5    \u001b[0m | \u001b[95m 241.9   \u001b[0m |\n",
      "[LightGBM] [Warning] num_threads is set with nthread=10, will be overridden by n_jobs=-1. Current value: num_threads=-1\n",
      "[LightGBM] [Warning] min_data_in_leaf is set=16, min_child_samples=20 will be ignored. Current value: min_data_in_leaf=16\n",
      "[LightGBM] [Warning] boosting is set=gbdt, boosting_type=gbdt will be ignored. Current value: boosting=gbdt\n",
      "| \u001b[0m 21      \u001b[0m | \u001b[0m 0.5159  \u001b[0m | \u001b[0m 0.004225\u001b[0m | \u001b[0m 156.5   \u001b[0m | \u001b[0m 9.943   \u001b[0m | \u001b[0m 16.9    \u001b[0m | \u001b[0m 239.9   \u001b[0m |\n",
      "[LightGBM] [Warning] num_threads is set with nthread=10, will be overridden by n_jobs=-1. Current value: num_threads=-1\n",
      "[LightGBM] [Warning] min_data_in_leaf is set=16, min_child_samples=20 will be ignored. Current value: min_data_in_leaf=16\n",
      "[LightGBM] [Warning] boosting is set=gbdt, boosting_type=gbdt will be ignored. Current value: boosting=gbdt\n",
      "| \u001b[0m 22      \u001b[0m | \u001b[0m 0.5194  \u001b[0m | \u001b[0m 0.04115 \u001b[0m | \u001b[0m 158.1   \u001b[0m | \u001b[0m 11.7    \u001b[0m | \u001b[0m 16.47   \u001b[0m | \u001b[0m 244.1   \u001b[0m |\n",
      "[LightGBM] [Warning] num_threads is set with nthread=10, will be overridden by n_jobs=-1. Current value: num_threads=-1\n",
      "[LightGBM] [Warning] min_data_in_leaf is set=18, min_child_samples=20 will be ignored. Current value: min_data_in_leaf=18\n",
      "[LightGBM] [Warning] boosting is set=gbdt, boosting_type=gbdt will be ignored. Current value: boosting=gbdt\n",
      "| \u001b[0m 23      \u001b[0m | \u001b[0m 0.5195  \u001b[0m | \u001b[0m 0.0462  \u001b[0m | \u001b[0m 158.9   \u001b[0m | \u001b[0m 13.99   \u001b[0m | \u001b[0m 18.68   \u001b[0m | \u001b[0m 242.7   \u001b[0m |\n",
      "[LightGBM] [Warning] num_threads is set with nthread=10, will be overridden by n_jobs=-1. Current value: num_threads=-1\n",
      "[LightGBM] [Warning] min_data_in_leaf is set=13, min_child_samples=20 will be ignored. Current value: min_data_in_leaf=13\n",
      "[LightGBM] [Warning] boosting is set=gbdt, boosting_type=gbdt will be ignored. Current value: boosting=gbdt\n",
      "| \u001b[0m 24      \u001b[0m | \u001b[0m 0.5176  \u001b[0m | \u001b[0m 0.08511 \u001b[0m | \u001b[0m 158.1   \u001b[0m | \u001b[0m 10.82   \u001b[0m | \u001b[0m 13.17   \u001b[0m | \u001b[0m 243.4   \u001b[0m |\n",
      "[LightGBM] [Warning] num_threads is set with nthread=10, will be overridden by n_jobs=-1. Current value: num_threads=-1\n",
      "[LightGBM] [Warning] min_data_in_leaf is set=18, min_child_samples=20 will be ignored. Current value: min_data_in_leaf=18\n",
      "[LightGBM] [Warning] boosting is set=gbdt, boosting_type=gbdt will be ignored. Current value: boosting=gbdt\n",
      "| \u001b[0m 25      \u001b[0m | \u001b[0m 0.5165  \u001b[0m | \u001b[0m 0.005795\u001b[0m | \u001b[0m 155.8   \u001b[0m | \u001b[0m 12.81   \u001b[0m | \u001b[0m 18.21   \u001b[0m | \u001b[0m 247.2   \u001b[0m |\n",
      "=====================================================================================\n"
     ]
    }
   ],
   "source": [
    "lgbcBO.maximize(init_points=5, n_iter=20, acq='ucb', kappa= 3, **gp_params)"
   ]
  },
  {
   "cell_type": "code",
   "execution_count": 145,
   "metadata": {},
   "outputs": [
    {
     "data": {
      "text/plain": [
       "0.5195743023744539"
      ]
     },
     "execution_count": 145,
     "metadata": {},
     "output_type": "execute_result"
    }
   ],
   "source": [
    "#Best accuracy:\n",
    "lgbcBO.max[\"target\"]"
   ]
  },
  {
   "cell_type": "code",
   "execution_count": 146,
   "metadata": {},
   "outputs": [
    {
     "data": {
      "text/plain": [
       "{'learning_rate': 0.02040113329924893,\n",
       " 'max_bin': 157.8854917508492,\n",
       " 'max_depth': 13.19156493728931,\n",
       " 'min_data_in_leaf': 16.500402969690814,\n",
       " 'num_leaves': 241.9229030044085}"
      ]
     },
     "execution_count": 146,
     "metadata": {},
     "output_type": "execute_result"
    }
   ],
   "source": [
    "best_params = lgbcBO.max[\"params\"]\n",
    "best_params"
   ]
  },
  {
   "cell_type": "markdown",
   "metadata": {},
   "source": [
    "## Train model with best hyperparameters on train set"
   ]
  },
  {
   "cell_type": "code",
   "execution_count": 147,
   "metadata": {},
   "outputs": [],
   "source": [
    "validated_lgbm_model = lgb.LGBMClassifier(max_depth=int(round(best_params[\"max_depth\"])),\n",
    "                                            learning_rate = best_params[\"learning_rate\"],\n",
    "                                            num_leaves = int(round(best_params[\"num_leaves\"])),\n",
    "                                            min_data_in_leaf = int(round(best_params[\"min_data_in_leaf\"])),\n",
    "                                            max_bin=int(round(best_params[\"max_bin\"])),\n",
    "                                            objective = 'binary', \n",
    "                                            boosting= 'gbdt',\n",
    "                                            nthread=10,\n",
    "                                            seed = 42,\n",
    "                                            verbose = -1)"
   ]
  },
  {
   "cell_type": "code",
   "execution_count": 148,
   "metadata": {},
   "outputs": [
    {
     "name": "stdout",
     "output_type": "stream",
     "text": [
      "[LightGBM] [Warning] num_threads is set with nthread=10, will be overridden by n_jobs=-1. Current value: num_threads=-1\n",
      "[LightGBM] [Warning] min_data_in_leaf is set=17, min_child_samples=20 will be ignored. Current value: min_data_in_leaf=17\n",
      "[LightGBM] [Warning] boosting is set=gbdt, boosting_type=gbdt will be ignored. Current value: boosting=gbdt\n"
     ]
    },
    {
     "data": {
      "text/plain": [
       "LGBMClassifier(boosting='gbdt', learning_rate=0.02040113329924893, max_bin=158,\n",
       "               max_depth=13, min_data_in_leaf=17, nthread=10, num_leaves=242,\n",
       "               objective='binary', seed=42, verbose=-1)"
      ]
     },
     "execution_count": 148,
     "metadata": {},
     "output_type": "execute_result"
    }
   ],
   "source": [
    "validated_lgbm_model.fit(train_set[predictors],\n",
    "                     train_set[outcome].values.reshape(len(train_set),), \n",
    "                     verbose=True)"
   ]
  },
  {
   "cell_type": "markdown",
   "metadata": {},
   "source": [
    "# Compute utility score depending on decision threshold'"
   ]
  },
  {
   "cell_type": "code",
   "execution_count": 149,
   "metadata": {},
   "outputs": [],
   "source": [
    "y_pred_probs = validated_lgbm_model.predict_proba(X_validation)"
   ]
  },
  {
   "cell_type": "code",
   "execution_count": 150,
   "metadata": {
    "scrolled": true
   },
   "outputs": [
    {
     "name": "stderr",
     "output_type": "stream",
     "text": [
      "<ipython-input-150-9d3c100330eb>:1: SettingWithCopyWarning: \n",
      "A value is trying to be set on a copy of a slice from a DataFrame.\n",
      "Try using .loc[row_indexer,col_indexer] = value instead\n",
      "\n",
      "See the caveats in the documentation: https://pandas.pydata.org/pandas-docs/stable/user_guide/indexing.html#returning-a-view-versus-a-copy\n",
      "  validation_set[\"lgbm_predicted_prob\"] = y_pred_probs[:, 1] #Probability of target=1\n"
     ]
    }
   ],
   "source": [
    "validation_set[\"lgbm_predicted_prob\"] = y_pred_probs[:, 1] #Probability of target=1"
   ]
  },
  {
   "cell_type": "code",
   "execution_count": 151,
   "metadata": {},
   "outputs": [],
   "source": [
    "def utility_score_last(date, weight, resp, action):\n",
    "    '''\n",
    "    Takes four 1-d arrays of equal size:\n",
    "    Date: int\n",
    "    weight: float >= 0\n",
    "    resp: float\n",
    "    action: binary\n",
    "    \n",
    "    and returns jane street utility score, u\n",
    "    '''\n",
    "    count_i = date.nunique() # Get number of days\n",
    "    P_i = np.bincount(date, weight * resp * action) # Compute P_i\n",
    "    t = np.sum(P_i) / np.sqrt(np.sum(P_i ** 2)) * np.sqrt(250 / count_i) # Compute t\n",
    "    u = np.clip(t, 0, 6) * np.sum(P_i) # Combine to get utility score\n",
    "    return u\n",
    "\n",
    "def get_utility_from_df(df, decision_threshold=0.5):\n",
    "    '''\n",
    "    Takes a dataframe and a decision threshold, \n",
    "    computes the total utility given the decision threshold for converting predicted probabilities to actions\n",
    "    '''\n",
    "    return utility_score_last(df.date, df.weight, df.resp, \n",
    "                              df.lgbm_predicted_prob.apply(lambda proba: int(proba > decision_threshold)))"
   ]
  },
  {
   "cell_type": "code",
   "execution_count": 152,
   "metadata": {},
   "outputs": [
    {
     "name": "stderr",
     "output_type": "stream",
     "text": [
      "<ipython-input-151-1f5466e7d848>:13: RuntimeWarning: invalid value encountered in double_scalars\n",
      "  t = np.sum(P_i) / np.sqrt(np.sum(P_i ** 2)) * np.sqrt(250 / count_i) # Compute t\n"
     ]
    }
   ],
   "source": [
    "thresholds =  np.linspace(0, 1, 200)\n",
    "utility_by_threshold = [get_utility_from_df(validation_set, threshold) for threshold in thresholds]"
   ]
  },
  {
   "cell_type": "code",
   "execution_count": 153,
   "metadata": {},
   "outputs": [],
   "source": [
    "best_threshold = thresholds[utility_by_threshold.index(max(utility_by_threshold))]"
   ]
  },
  {
   "cell_type": "code",
   "execution_count": 154,
   "metadata": {},
   "outputs": [
    {
     "data": {
      "image/png": "[encoded data removed]",
      "text/plain": [
       "<Figure size 1152x576 with 1 Axes>"
      ]
     },
     "metadata": {},
     "output_type": "display_data"
    }
   ],
   "source": [
    "# Visualize\n",
    "plt.figure(figsize=(16, 8))\n",
    "plt.plot(thresholds, utility_by_threshold, label=\"Best utility: %s\"%np.round(max(utility_by_threshold), 3))\n",
    "plt.axvline(best_threshold, \n",
    "            color=\"red\", linestyle=\"--\",label=\"Best threshold: %s\"%np.round(best_threshold, 3))\n",
    "plt.ylabel(\"Utility\")\n",
    "plt.xlabel(\"Decision Boundary\")\n",
    "plt.legend(loc=4)\n",
    "plt.show()"
   ]
  },
  {
   "cell_type": "code",
   "execution_count": 155,
   "metadata": {},
   "outputs": [
    {
     "data": {
      "image/png": "[encoded data removed]",
      "text/plain": [
       "<Figure size 576x432 with 1 Axes>"
      ]
     },
     "metadata": {},
     "output_type": "display_data"
    }
   ],
   "source": [
    "plt.scatter(validation_set.lgbm_predicted_prob, validation_set.resp, label=\"r-squared: {}\".format(np.corrcoef(validation_set.lgbm_predicted_prob,\n",
    "                                                                                             validation_set.resp)[0,1]))\n",
    "plt.xlabel(\"Predicted probability\")\n",
    "plt.ylabel(\"resp\")\n",
    "\n",
    "plt.legend(loc=0)\n",
    "plt.show()"
   ]
  },
  {
   "cell_type": "code",
   "execution_count": 156,
   "metadata": {},
   "outputs": [
    {
     "data": {
      "image/png": "[encoded data removed]",
      "text/plain": [
       "<Figure size 576x432 with 1 Axes>"
      ]
     },
     "metadata": {},
     "output_type": "display_data"
    }
   ],
   "source": [
    "plt.scatter(validation_set.lgbm_predicted_prob, validation_set.resp, label=\"r-squared: {}\".format(np.corrcoef(validation_set.lgbm_predicted_prob,\n",
    "                                                                                             validation_set.weight)[0,1]))\n",
    "plt.xlabel(\"Predicted probability\")\n",
    "plt.ylabel(\"resp\")\n",
    "\n",
    "plt.legend(loc=0)\n",
    "plt.show()"
   ]
  },
  {
   "cell_type": "markdown",
   "metadata": {},
   "source": [
    "# Train best model on entire train + validation dataset before running on test"
   ]
  },
  {
   "cell_type": "code",
   "execution_count": 157,
   "metadata": {},
   "outputs": [
    {
     "name": "stderr",
     "output_type": "stream",
     "text": [
      "/Library/Frameworks/Python.framework/Versions/3.8/lib/python3.8/site-packages/pandas/core/frame.py:4163: SettingWithCopyWarning: \n",
      "A value is trying to be set on a copy of a slice from a DataFrame\n",
      "\n",
      "See the caveats in the documentation: https://pandas.pydata.org/pandas-docs/stable/user_guide/indexing.html#returning-a-view-versus-a-copy\n",
      "  return super().drop(\n"
     ]
    }
   ],
   "source": [
    "#Merge train and validation data into a single dataframe\n",
    "validation_set.drop(columns=[\"lgbm_predicted_prob\"], axis=1, inplace=True)\n",
    "train_and_validation_set = pd.concat([train_set, validation_set], axis=0)"
   ]
  },
  {
   "cell_type": "code",
   "execution_count": 158,
   "metadata": {},
   "outputs": [],
   "source": [
    "#Define model with best hyperparameters based on validation set\n",
    "final_lgbm_model = lgb.LGBMClassifier(max_depth=int(round(best_params[\"max_depth\"])),\n",
    "                                            learning_rate = best_params[\"learning_rate\"],\n",
    "                                            num_leaves = int(round(best_params[\"num_leaves\"])),\n",
    "                                            min_data_in_leaf = int(round(best_params[\"min_data_in_leaf\"])),\n",
    "                                            max_bin=int(round(best_params[\"max_bin\"])),\n",
    "                                            objective = 'binary', \n",
    "                                            boosting= 'gbdt',\n",
    "                                            nthread=10,\n",
    "                                            seed = 42,\n",
    "                                            verbose = -1)"
   ]
  },
  {
   "cell_type": "code",
   "execution_count": 189,
   "metadata": {},
   "outputs": [],
   "source": [
    "final_lgbm_model = lgb.LGBMClassifier(boosting='gbdt', learning_rate=0.06157343657751557, max_bin=164,\n",
    "               max_depth=6, min_data_in_leaf=10, nthread=10, num_leaves=191,\n",
    "               objective='binary', seed=42, verbose=-1)"
   ]
  },
  {
   "cell_type": "code",
   "execution_count": 190,
   "metadata": {},
   "outputs": [
    {
     "name": "stdout",
     "output_type": "stream",
     "text": [
      "[LightGBM] [Warning] num_threads is set with nthread=10, will be overridden by n_jobs=-1. Current value: num_threads=-1\n",
      "[LightGBM] [Warning] min_data_in_leaf is set=10, min_child_samples=20 will be ignored. Current value: min_data_in_leaf=10\n",
      "[LightGBM] [Warning] boosting is set=gbdt, boosting_type=gbdt will be ignored. Current value: boosting=gbdt\n"
     ]
    },
    {
     "data": {
      "text/plain": [
       "LGBMClassifier(boosting='gbdt', learning_rate=0.06157343657751557, max_bin=164,\n",
       "               max_depth=6, min_data_in_leaf=10, nthread=10, num_leaves=191,\n",
       "               objective='binary', seed=42, verbose=-1)"
      ]
     },
     "execution_count": 190,
     "metadata": {},
     "output_type": "execute_result"
    }
   ],
   "source": [
    "#Train on merged dataset\n",
    "final_lgbm_model.fit(train_and_validation_set[predictors],\n",
    "                     train_and_validation_set[outcome].values.reshape(len(train_and_validation_set),), \n",
    "                     verbose=True)"
   ]
  },
  {
   "cell_type": "markdown",
   "metadata": {},
   "source": [
    "### Save model as pickle file to avoid having to retrain"
   ]
  },
  {
   "cell_type": "code",
   "execution_count": 187,
   "metadata": {},
   "outputs": [],
   "source": [
    "import joblib\n",
    "# save model\n",
    "#joblib.dump(final_lgbm_model, 'final_lgbm_model_final.pkl')\n",
    "# load model\n",
    "gbm_pickle = joblib.load('final_lgbm_model.pkl')"
   ]
  },
  {
   "cell_type": "code",
   "execution_count": 188,
   "metadata": {},
   "outputs": [
    {
     "data": {
      "text/plain": [
       "LGBMClassifier(boosting='gbdt', learning_rate=0.06157343657751557, max_bin=164,\n",
       "               max_depth=6, min_data_in_leaf=10, nthread=10, num_leaves=191,\n",
       "               objective='binary', seed=42, verbose=-1)"
      ]
     },
     "execution_count": 188,
     "metadata": {},
     "output_type": "execute_result"
    }
   ],
   "source": [
    "gbm_pickle"
   ]
  },
  {
   "cell_type": "markdown",
   "metadata": {},
   "source": [
    "# Compute test set utility"
   ]
  },
  {
   "cell_type": "code",
   "execution_count": 182,
   "metadata": {
    "scrolled": true
   },
   "outputs": [],
   "source": [
    "y_preds = gbm_pickle.predict_proba(X_test)"
   ]
  },
  {
   "cell_type": "code",
   "execution_count": 183,
   "metadata": {},
   "outputs": [
    {
     "name": "stderr",
     "output_type": "stream",
     "text": [
      "<ipython-input-183-ff5a00e50ae4>:1: SettingWithCopyWarning: \n",
      "A value is trying to be set on a copy of a slice from a DataFrame.\n",
      "Try using .loc[row_indexer,col_indexer] = value instead\n",
      "\n",
      "See the caveats in the documentation: https://pandas.pydata.org/pandas-docs/stable/user_guide/indexing.html#returning-a-view-versus-a-copy\n",
      "  test_set[\"lgbm_predicted_prob\"] = y_preds[:, 1]\n"
     ]
    }
   ],
   "source": [
    "test_set[\"lgbm_predicted_prob\"] = y_preds[:, 1]"
   ]
  },
  {
   "cell_type": "code",
   "execution_count": 184,
   "metadata": {
    "scrolled": true
   },
   "outputs": [
    {
     "data": {
      "text/plain": [
       "1100.0256097161034"
      ]
     },
     "execution_count": 184,
     "metadata": {},
     "output_type": "execute_result"
    }
   ],
   "source": [
    "get_utility_from_df(test_set, best_threshold)"
   ]
  },
  {
   "cell_type": "markdown",
   "metadata": {},
   "source": [
    "# Original model\n",
    "We had a a faulty line of code originally, which resulted in the order of the features in each X set being randomly scrambled whenever the notebook was restarted. We had a model that we trained for a very long time, but which was lost when the kernel crashed. We saved the model itself, but because the order of the features was randomly scrambled, we can't use the features. However, we can train another model using the same hyperparameters derived from running the bayesian optimization for extremely finegrained, and larger search spans–something we don't have time to do again before the submission.\n",
    "\n",
    "You can verify this by checking the GitHub date that final_lgbm_model.pkl was pushed to the repo–it was the first model to be pushed."
   ]
  },
  {
   "cell_type": "code",
   "execution_count": 191,
   "metadata": {},
   "outputs": [
    {
     "data": {
      "text/plain": [
       "LGBMClassifier(boosting='gbdt', learning_rate=0.06157343657751557, max_bin=164,\n",
       "               max_depth=6, min_data_in_leaf=10, nthread=10, num_leaves=191,\n",
       "               objective='binary', seed=42, verbose=-1)"
      ]
     },
     "execution_count": 191,
     "metadata": {},
     "output_type": "execute_result"
    }
   ],
   "source": [
    "joblib.load('final_lgbm_model.pkl')"
   ]
  },
  {
   "cell_type": "code",
   "execution_count": 192,
   "metadata": {},
   "outputs": [],
   "source": [
    "original_lgbm_model = lgb.LGBMClassifier(boosting='gbdt', learning_rate=0.06157343657751557, max_bin=164,\n",
    "               max_depth=6, min_data_in_leaf=10, nthread=10, num_leaves=191,\n",
    "               objective='binary', seed=42, verbose=-1)"
   ]
  },
  {
   "cell_type": "code",
   "execution_count": 193,
   "metadata": {},
   "outputs": [
    {
     "data": {
      "text/plain": [
       "LGBMClassifier(boosting='gbdt', learning_rate=0.06157343657751557, max_bin=164,\n",
       "               max_depth=6, min_data_in_leaf=10, nthread=10, num_leaves=191,\n",
       "               objective='binary', seed=42, verbose=-1)"
      ]
     },
     "execution_count": 193,
     "metadata": {},
     "output_type": "execute_result"
    }
   ],
   "source": [
    "#Train on merged dataset\n",
    "original_lgbm_model.fit(train_and_validation_set[predictors],\n",
    "                     train_and_validation_set[outcome].values.reshape(len(train_and_validation_set),), \n",
    "                     verbose=True)"
   ]
  },
  {
   "cell_type": "code",
   "execution_count": 194,
   "metadata": {},
   "outputs": [],
   "source": [
    "y_preds = original_lgbm_model.predict_proba(X_test)"
   ]
  },
  {
   "cell_type": "code",
   "execution_count": 195,
   "metadata": {
    "scrolled": true
   },
   "outputs": [
    {
     "name": "stderr",
     "output_type": "stream",
     "text": [
      "<ipython-input-195-ff5a00e50ae4>:1: SettingWithCopyWarning: \n",
      "A value is trying to be set on a copy of a slice from a DataFrame.\n",
      "Try using .loc[row_indexer,col_indexer] = value instead\n",
      "\n",
      "See the caveats in the documentation: https://pandas.pydata.org/pandas-docs/stable/user_guide/indexing.html#returning-a-view-versus-a-copy\n",
      "  test_set[\"lgbm_predicted_prob\"] = y_preds[:, 1]\n"
     ]
    }
   ],
   "source": [
    "test_set[\"lgbm_predicted_prob\"] = y_preds[:, 1]"
   ]
  },
  {
   "cell_type": "code",
   "execution_count": 207,
   "metadata": {},
   "outputs": [
    {
     "data": {
      "text/plain": [
       "1790.9018447946748"
      ]
     },
     "execution_count": 207,
     "metadata": {},
     "output_type": "execute_result"
    }
   ],
   "source": [
    "get_utility_from_df(test_set, best_threshold)"
   ]
  },
  {
   "cell_type": "markdown",
   "metadata": {},
   "source": [
    "# Abandoned approach using TimeSeriesSplit:\n",
    "Abandoned because was not computationally feasible, would shortcircuit my computers RAM when we tried to use it for hyperparameter selection"
   ]
  },
  {
   "cell_type": "code",
   "execution_count": 10,
   "metadata": {},
   "outputs": [
    {
     "name": "stdout",
     "output_type": "stream",
     "text": [
      "280617 280613\n",
      "561230 280613\n",
      "841843 280613\n",
      "1122456 280613\n"
     ]
    }
   ],
   "source": [
    "from sklearn.model_selection import TimeSeriesSplit\n",
    "\n",
    "#Number of trades in each split, with TimeSeriesSplit\n",
    "X_train, y_train = train_set[predictors], train_set[outcome]\n",
    "ts = TimeSeriesSplit(n_splits=4)\n",
    "for i in ts.split(X_train, y_train):\n",
    "    print(len(i[0]), len(i[1]))"
   ]
  },
  {
   "cell_type": "code",
   "execution_count": 11,
   "metadata": {},
   "outputs": [
    {
     "name": "stdout",
     "output_type": "stream",
     "text": [
      "Train: 44, Test: 53\n",
      "Train: 96, Test: 75\n",
      "Train: 170, Test: 68\n",
      "Train: 237, Test: 64\n"
     ]
    }
   ],
   "source": [
    "#Number of dates in each split, with TimeSeriesSplit\n",
    "\n",
    "ts = TimeSeriesSplit(n_splits=4)\n",
    "for fold_index, holdout_index in ts.split(X_train, y_train):     \n",
    "    X_fold, X_holdout = X_train.iloc[fold_index,:].date.nunique(), X_train.iloc[holdout_index,:].date.nunique()\n",
    "    print('Train: {}, Test: {}'.format(X_fold, X_holdout))"
   ]
  },
  {
   "cell_type": "code",
   "execution_count": null,
   "metadata": {},
   "outputs": [],
   "source": [
    "import gc\n",
    "\n",
    "n_folds = 4\n",
    "folds = TimeSeriesSplit(n_splits=n_folds)\n",
    "\n",
    "splits = folds.split(train_set[predictors], train_set[outcome])\n",
    "\n",
    "y_preds = np.zeros(validation_set.shape[0])\n",
    "y_oof = np.zeros(train_set.shape[0])\n",
    "mean_score = []\n",
    "\n",
    "feature_importances = pd.DataFrame()\n",
    "feature_importances['feature'] = predictors\n",
    "\n",
    "for fold_n, (train_index, valid_index) in enumerate(splits):\n",
    "\n",
    "    print('Fold:', fold_n+1)\n",
    "    \n",
    "    X_train, X_valid = train_set[predictors].iloc[train_index], train_set[predictors].iloc[valid_index]\n",
    "    y_train, y_valid = train_set[outcome].iloc[train_index], train_set[outcome].iloc[valid_index]\n",
    "\n",
    "    d_train = lgb.Dataset(X_train, label=y_train)\n",
    "    d_valid = lgb.Dataset(X_valid, label=y_valid)\n",
    "\n",
    "    model = lgb.train(params, d_train, 2500, valid_sets = [d_train, d_valid], early_stopping_rounds = 50, verbose_eval=100)\n",
    "    \n",
    "    feature_importances[f'fold_{fold_n + 1}'] = model.feature_importance()\n",
    "\n",
    "    y_pred_valid = np.round(model.predict(X_valid, num_iteration=model.best_iteration))\n",
    "\n",
    "    y_oof[valid_index] = y_pred_valid\n",
    "    \n",
    "    val_score = accuracy_score(y_pred_valid, y_valid)\n",
    "\n",
    "    print(f'val AUC score is {val_score}')\n",
    "\n",
    "    mean_score.append(val_score)\n",
    "\n",
    "    y_preds += model.predict(validation_set[predictors], num_iteration=model.best_iteration) / n_folds\n",
    "\n",
    "    del X_train, X_valid, y_train, y_valid\n",
    "    gc.collect()\n",
    "\n",
    "print('AUC score over folds is', np.mean(mean_score))\n",
    "\n",
    "#test['demand'] = y_preds"
   ]
  },
  {
   "cell_type": "code",
   "execution_count": null,
   "metadata": {},
   "outputs": [],
   "source": [
    "# Parameters for lightGBM. Objective is minimizing logloss\n",
    "params = {'learning_rate': 0.01,\n",
    "          'boosting': 'gbdt',\n",
    "          'objective': 'binary',\n",
    "          'num_leaves': 200,\n",
    "          'min_data_in_leaf': 10,\n",
    "          'max_bin': 200,\n",
    "          'max_depth': 6,\n",
    "          'seed': 2018,\n",
    "          'nthread': 10}"
   ]
  },
  {
   "cell_type": "code",
   "execution_count": 117,
   "metadata": {},
   "outputs": [],
   "source": [
    "gbm_pickle = joblib.load('final_lgbm_model.pkl')\n",
    "asd = predictors.copy()\n",
    "new_test = test_set[asd]\n",
    "y_preds = gbm_pickle.predict_proba(new_test)"
   ]
  },
  {
   "cell_type": "code",
   "execution_count": 119,
   "metadata": {
    "scrolled": true
   },
   "outputs": [
    {
     "data": {
      "text/plain": [
       "array([0.56173588, 0.56349285, 0.52683315, ..., 0.49245976, 0.48022083,\n",
       "       0.27745093])"
      ]
     },
     "execution_count": 119,
     "metadata": {},
     "output_type": "execute_result"
    }
   ],
   "source": [
    "y_preds[:, 1]"
   ]
  },
  {
   "cell_type": "code",
   "execution_count": 120,
   "metadata": {},
   "outputs": [
    {
     "data": {
      "text/plain": [
       "1878353    0.497785\n",
       "1878354    0.482919\n",
       "1878355    0.493979\n",
       "1878356    0.494053\n",
       "1878357    0.469061\n",
       "             ...   \n",
       "2390486    0.530731\n",
       "2390487    0.474560\n",
       "2390488    0.499953\n",
       "2390489    0.737711\n",
       "2390490    0.572586\n",
       "Name: lgbm_predicted_prob, Length: 512138, dtype: float64"
      ]
     },
     "execution_count": 120,
     "metadata": {},
     "output_type": "execute_result"
    }
   ],
   "source": [
    "test_set[\"lgbm_predicted_prob\"]"
   ]
  }
 ],
 "metadata": {
  "accelerator": "TPU",
  "colab": {
   "collapsed_sections": [],
   "name": "Janestreet LightGBM.ipynb",
   "provenance": []
  },
  "kernelspec": {
   "display_name": "Python 3",
   "language": "python",
   "name": "python3"
  },
  "language_info": {
   "codemirror_mode": {
    "name": "ipython",
    "version": 3
   },
   "file_extension": ".py",
   "mimetype": "text/x-python",
   "name": "python",
   "nbconvert_exporter": "python",
   "pygments_lexer": "ipython3",
   "version": "3.8.1"
  }
 },
 "nbformat": 4,
 "nbformat_minor": 1
}
