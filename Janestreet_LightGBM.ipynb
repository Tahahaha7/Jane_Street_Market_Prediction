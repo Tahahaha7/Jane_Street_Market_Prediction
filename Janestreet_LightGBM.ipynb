{
 "cells": [
  {
   "cell_type": "markdown",
   "metadata": {
    "id": "6_CdL6XCcV9a"
   },
   "source": [
    "# $\\text{Jane Street Market Prediction}$"
   ]
  },
  {
   "cell_type": "markdown",
   "metadata": {
    "id": "YN5hdEHxckI9"
   },
   "source": [
    "## $\\text{Getting the data}$"
   ]
  },
  {
   "cell_type": "code",
   "execution_count": 1,
   "metadata": {
    "colab": {
     "base_uri": "https://localhost:8080/"
    },
    "id": "0SAUcxFqv2oQ",
    "outputId": "03478b11-b83a-4fe8-ecc0-e58c3f38826a"
   },
   "outputs": [
    {
     "name": "stdout",
     "output_type": "stream",
     "text": [
      "Mounted at /content/gdrive\n"
     ]
    }
   ],
   "source": [
    "# getting access to Google Drive to retrieve data\n",
    "#from google.colab import drive\n",
    "#drive.mount('/content/gdrive')"
   ]
  },
  {
   "cell_type": "code",
   "execution_count": 2,
   "metadata": {
    "colab": {
     "base_uri": "https://localhost:8080/"
    },
    "id": "6QvyfvMLwUKX",
    "outputId": "e785c605-f6b5-4ce0-b4e0-4d4d45e0e84c"
   },
   "outputs": [
    {
     "name": "stdout",
     "output_type": "stream",
     "text": [
      "/content/gdrive/My Drive/Kaggle\n"
     ]
    }
   ],
   "source": [
    "# changing the working directory\n",
    "#%cd /content/gdrive/My Drive/Kaggle"
   ]
  },
  {
   "cell_type": "code",
   "execution_count": 3,
   "metadata": {
    "id": "lckIE5XFwZ0m"
   },
   "outputs": [],
   "source": [
    "'''\n",
    "!kaggle competitions download -c jane-street-market-prediction\n",
    "!unzip \\*.zip  && rm *.zip''';"
   ]
  },
  {
   "cell_type": "code",
   "execution_count": 1,
   "metadata": {
    "id": "VLkgsa2Uwwch"
   },
   "outputs": [],
   "source": [
    "# Data\n",
    "import numpy as np\n",
    "import pandas as pd\n",
    "\n",
    "# Plotting\n",
    "import matplotlib.pyplot as plt\n",
    "import seaborn as sns; sns.set()\n",
    "import plotly.express as px"
   ]
  },
  {
   "cell_type": "code",
   "execution_count": 7,
   "metadata": {
    "colab": {
     "base_uri": "https://localhost:8080/"
    },
    "id": "83lSp6EWUet9",
    "outputId": "ec978ba9-fc6a-48e2-e8fc-6c594f17d0bb"
   },
   "outputs": [
    {
     "name": "stdout",
     "output_type": "stream",
     "text": [
      "Wall time: 2min 7s\n"
     ]
    }
   ],
   "source": [
    "%%time\n",
    "train_data = pd.read_csv('C:/Users/Taha/Desktop/Spring 2021/JaneStreet/train.csv')"
   ]
  },
  {
   "cell_type": "code",
   "execution_count": 9,
   "metadata": {
    "colab": {
     "base_uri": "https://localhost:8080/"
    },
    "id": "Y181SDMKUrRv",
    "outputId": "48548331-57e3-40ff-b9c1-4b2b9fbd8b26"
   },
   "outputs": [],
   "source": [
    "# difference columns between train and test set\n",
    "#set(train_data.columns) - set(test_sample.columns)"
   ]
  },
  {
   "cell_type": "code",
   "execution_count": 6,
   "metadata": {},
   "outputs": [],
   "source": []
  },
  {
   "cell_type": "markdown",
   "metadata": {
    "id": "O-DO3WhVd0Gf"
   },
   "source": [
    "## $\\text{LightGMB}$"
   ]
  },
  {
   "cell_type": "markdown",
   "metadata": {
    "id": "yjyX3n4DJdf2"
   },
   "source": [
    "### $\\text{Data Processing}$"
   ]
  },
  {
   "cell_type": "code",
   "execution_count": 10,
   "metadata": {
    "id": "jqR4YUD0Jh6o"
   },
   "outputs": [],
   "source": [
    "train_data[\"action\"] = train_data[\"resp\"].apply(lambda x: int(x>0))"
   ]
  },
  {
   "cell_type": "code",
   "execution_count": 11,
   "metadata": {
    "colab": {
     "base_uri": "https://localhost:8080/"
    },
    "id": "pZylOrxiKUaJ",
    "outputId": "c10d91a2-8694-4ec7-f023-7c3f979de8f8"
   },
   "outputs": [
    {
     "data": {
      "text/plain": [
       "(400, 100)"
      ]
     },
     "execution_count": 11,
     "metadata": {},
     "output_type": "execute_result"
    }
   ],
   "source": [
    "#cropped_train_data = train_data.loc[train_data.date > 85]\n",
    "\n",
    "test_set = train_data[train_data.date > 399]\n",
    "train_set = train_data[train_data.date <= 399]\n",
    "\n",
    "train_set.date.nunique(), test_set.date.nunique()"
   ]
  },
  {
   "cell_type": "code",
   "execution_count": 12,
   "metadata": {
    "colab": {
     "base_uri": "https://localhost:8080/"
    },
    "id": "iLCOMzYiOjTe",
    "outputId": "1101dca4-d9a3-4f3d-c88a-1e9fea453046"
   },
   "outputs": [
    {
     "data": {
      "text/plain": [
       "21.42"
      ]
     },
     "execution_count": 12,
     "metadata": {},
     "output_type": "execute_result"
    }
   ],
   "source": [
    "# percentage of trades in the test set\n",
    "round(100*test_set.shape[0] / (train_data.shape[0]), 2)"
   ]
  },
  {
   "cell_type": "code",
   "execution_count": 13,
   "metadata": {
    "id": "tQ1QbZbTOi7N"
   },
   "outputs": [],
   "source": [
    "def utility_score_last(date, weight, resp, action):\n",
    "    count_i = date[-1] + 1 # Get number of days\n",
    "    P_i = np.bincount(date, weight * resp * action) # Compute P_i\n",
    "    t = np.sum(P_i) / np.sqrt(np.sum(P_i ** 2)) * np.sqrt(250 / count_i) # Compute t\n",
    "    u = np.clip(t, 0, 6) * np.sum(P_i) # Combine to get utility score\n",
    "    return u"
   ]
  },
  {
   "cell_type": "code",
   "execution_count": 14,
   "metadata": {
    "id": "OD89plgmOinY"
   },
   "outputs": [],
   "source": [
    "predictors = list(set(train_data.columns) - {'resp', 'resp_1', 'resp_2', 'resp_3', 'resp_4', 'action', 'ts_id'})\n",
    "outcome = ['action']"
   ]
  },
  {
   "cell_type": "code",
   "execution_count": 15,
   "metadata": {
    "id": "vkKQThmlOiOF"
   },
   "outputs": [],
   "source": [
    "# Parameters for lightGBM. Objective is minimizing logloss\n",
    "params = {'learning_rate': 0.01,\n",
    "          'boosting': 'gbdt',\n",
    "          'objective': 'binary',\n",
    "          'num_leaves': 200,\n",
    "          'min_data_in_leaf': 10,\n",
    "          'max_bin': 200,\n",
    "          'max_depth': 6,\n",
    "          'seed': 2018,\n",
    "          'nthread': 10}"
   ]
  },
  {
   "cell_type": "code",
   "execution_count": 22,
   "metadata": {
    "id": "MUyVIjz1VmIw"
   },
   "outputs": [],
   "source": [
    "from sklearn.model_selection import TimeSeriesSplit\n",
    "from sklearn.metrics import roc_auc_score, roc_curve, accuracy_score, confusion_matrix\n",
    "import lightgbm as lgb"
   ]
  },
  {
   "cell_type": "code",
   "execution_count": 32,
   "metadata": {
    "colab": {
     "base_uri": "https://localhost:8080/"
    },
    "id": "Azy1126vTShm",
    "outputId": "cec12611-8dc6-4f5d-c986-e5874f9288a3"
   },
   "outputs": [
    {
     "name": "stdout",
     "output_type": "stream",
     "text": [
      "375673 375670\n",
      "751343 375670\n",
      "1127013 375670\n",
      "1502683 375670\n"
     ]
    }
   ],
   "source": [
    "X_train, y_train = train_set[predictors], train_set[outcome]\n",
    "ts = TimeSeriesSplit(n_splits=4)\n",
    "for i in ts.split(X_train, y_train):\n",
    "    print(len(i[0]), len(i[1]))"
   ]
  },
  {
   "cell_type": "code",
   "execution_count": 31,
   "metadata": {
    "colab": {
     "base_uri": "https://localhost:8080/"
    },
    "id": "upwlabKyeTBW",
    "outputId": "c33b6434-a253-488f-bd47-c5cae270a581"
   },
   "outputs": [
    {
     "name": "stdout",
     "output_type": "stream",
     "text": [
      "Train: 58, Test: 93\n",
      "Train: 150, Test: 90\n",
      "Train: 239, Test: 85\n",
      "Train: 323, Test: 78\n"
     ]
    }
   ],
   "source": [
    "ts = TimeSeriesSplit(n_splits=4)\n",
    "for fold_index, holdout_index in ts.split(X_train, y_train):     \n",
    "    X_fold, X_holdout = X_train.iloc[fold_index,:].date.nunique(), X_train.iloc[holdout_index,:].date.nunique()\n",
    "    print('Train: {}, Test: {}'.format(X_fold, X_holdout))"
   ]
  },
  {
   "cell_type": "code",
   "execution_count": 27,
   "metadata": {
    "id": "gbsBS_JHfwq8"
   },
   "outputs": [
    {
     "name": "stdout",
     "output_type": "stream",
     "text": [
      "Fold: 1\n",
      "Training until validation scores don't improve for 50 rounds\n",
      "[100]\ttraining's binary_logloss: 0.674826\tvalid_1's binary_logloss: 0.692741\n",
      "Early stopping, best iteration is:\n",
      "[52]\ttraining's binary_logloss: 0.681695\tvalid_1's binary_logloss: 0.69246\n",
      "val AUC score is 0.5156706684057817\n",
      "Fold: 2\n",
      "Training until validation scores don't improve for 50 rounds\n",
      "[100]\ttraining's binary_logloss: 0.683086\tvalid_1's binary_logloss: 0.692676\n",
      "Early stopping, best iteration is:\n",
      "[86]\ttraining's binary_logloss: 0.684093\tvalid_1's binary_logloss: 0.692655\n",
      "val AUC score is 0.512039822184364\n",
      "Fold: 3\n",
      "Training until validation scores don't improve for 50 rounds\n",
      "[100]\ttraining's binary_logloss: 0.686456\tvalid_1's binary_logloss: 0.692672\n",
      "Early stopping, best iteration is:\n",
      "[120]\ttraining's binary_logloss: 0.685583\tvalid_1's binary_logloss: 0.692653\n",
      "val AUC score is 0.5105358426278382\n",
      "Fold: 4\n",
      "Training until validation scores don't improve for 50 rounds\n",
      "[100]\ttraining's binary_logloss: 0.688405\tvalid_1's binary_logloss: 0.692519\n",
      "Early stopping, best iteration is:\n",
      "[131]\ttraining's binary_logloss: 0.687252\tvalid_1's binary_logloss: 0.692474\n",
      "val AUC score is 0.5124337849708521\n",
      "AUC score over folds is 0.512670029547209\n"
     ]
    }
   ],
   "source": [
    "import gc\n",
    "\n",
    "n_folds = 4\n",
    "folds = TimeSeriesSplit(n_splits=n_folds)\n",
    "\n",
    "splits = folds.split(train_set[predictors], train_set[outcome])\n",
    "\n",
    "y_preds = np.zeros(test_set.shape[0])\n",
    "y_oof = np.zeros(train_set.shape[0])\n",
    "mean_score = []\n",
    "\n",
    "feature_importances = pd.DataFrame()\n",
    "feature_importances['feature'] = predictors\n",
    "\n",
    "for fold_n, (train_index, valid_index) in enumerate(splits):\n",
    "\n",
    "    print('Fold:', fold_n+1)\n",
    "    \n",
    "    X_train, X_valid = train_set[predictors].iloc[train_index], train_set[predictors].iloc[valid_index]\n",
    "    y_train, y_valid = train_set[outcome].iloc[train_index], train_set[outcome].iloc[valid_index]\n",
    "\n",
    "    d_train = lgb.Dataset(X_train, label=y_train)\n",
    "    d_valid = lgb.Dataset(X_valid, label=y_valid)\n",
    "\n",
    "    model = lgb.train(params, d_train, 2500, valid_sets = [d_train, d_valid], early_stopping_rounds = 50, verbose_eval=100)\n",
    "    \n",
    "    feature_importances[f'fold_{fold_n + 1}'] = model.feature_importance()\n",
    "\n",
    "    y_pred_valid = np.round(model.predict(X_valid, num_iteration=model.best_iteration))\n",
    "\n",
    "    y_oof[valid_index] = y_pred_valid\n",
    "    \n",
    "    val_score = accuracy_score(y_pred_valid, y_valid)\n",
    "\n",
    "    print(f'val AUC score is {val_score}')\n",
    "\n",
    "    mean_score.append(val_score)\n",
    "\n",
    "    y_preds += model.predict(test_set[predictors], num_iteration=model.best_iteration) / n_folds\n",
    "\n",
    "    del X_train, X_valid, y_train, y_valid\n",
    "    gc.collect()\n",
    "\n",
    "print('AUC score over folds is', np.mean(mean_score))\n",
    "\n",
    "#test['demand'] = y_preds"
   ]
  },
  {
   "cell_type": "markdown",
   "metadata": {
    "id": "aTirm3HUqrMX"
   },
   "source": [
    "### $\\text{LightGBM: One Split}$"
   ]
  },
  {
   "cell_type": "code",
   "execution_count": 17,
   "metadata": {
    "id": "X02XkFUmJkkB"
   },
   "outputs": [
    {
     "data": {
      "text/plain": [
       "LGBMClassifier()"
      ]
     },
     "execution_count": 17,
     "metadata": {},
     "output_type": "execute_result"
    }
   ],
   "source": [
    "X_train, X_test, y_train, y_test = train_set[predictors],  test_set[predictors], train_set[outcome], test_set[outcome]\n",
    "\n",
    "#print(X_train.shape, X_test.shape, y_train.shape, y_test.shape)\n",
    "\n",
    "lgb_model = lgb.LGBMClassifier()\n",
    "lgb_model.fit(X_train, y_train.values.reshape(len(y_train),), verbose=True)"
   ]
  },
  {
   "cell_type": "code",
   "execution_count": 18,
   "metadata": {
    "id": "5Y2tUL00sKAB"
   },
   "outputs": [],
   "source": [
    "y_pred = lgb_model.predict(X_test)"
   ]
  },
  {
   "cell_type": "code",
   "execution_count": 19,
   "metadata": {
    "id": "2Op3WLb1sJ8T"
   },
   "outputs": [
    {
     "name": "stdout",
     "output_type": "stream",
     "text": [
      "Accuracy of model is:  0.5136701435941095\n"
     ]
    }
   ],
   "source": [
    "print(\"Accuracy of model is: \", accuracy_score(y_test, y_pred))"
   ]
  },
  {
   "cell_type": "code",
   "execution_count": 20,
   "metadata": {
    "id": "bJfvTi_xsJ51"
   },
   "outputs": [
    {
     "name": "stdout",
     "output_type": "stream",
     "text": [
      "Training set score: 0.5593\n",
      "Test set score: 0.5137\n"
     ]
    }
   ],
   "source": [
    "print('Training set score: {:.4f}'.format(lgb_model.score(X_train, y_train)))\n",
    "print('Test set score: {:.4f}'.format(lgb_model.score(X_test, y_test)))"
   ]
  },
  {
   "cell_type": "code",
   "execution_count": 23,
   "metadata": {
    "id": "1kq4mvXJsP0q"
   },
   "outputs": [
    {
     "data": {
      "image/png": "[encoded data removed]",
      "text/plain": [
       "<Figure size 576x432 with 2 Axes>"
      ]
     },
     "metadata": {},
     "output_type": "display_data"
    }
   ],
   "source": [
    "import seaborn as sns\n",
    "\n",
    "def plot_cm(cm):\n",
    "    group_names = ['True Neg', 'False Pos', 'False Neg', 'True Pos']\n",
    "    group_counts = ['{0:0.0f}'.format(value) for value in cm.flatten()]\n",
    "    group_percentages = ['{0:.2%}'.format(value) for value in cm.flatten()/np.sum(cm)]\n",
    "    labels = [f'{v1}\\n{v2}\\n{v3}' for v1, v2, v3 in\n",
    "              zip(group_names, group_counts, group_percentages)]\n",
    "    labels = np.asarray(labels).reshape(2,2)\n",
    "    sns.set(rc={'figure.figsize':(8, 6)})\n",
    "    sns.heatmap(cm, annot=labels, fmt='', cmap='Blues', alpha=.75)\n",
    "    \n",
    "plot_cm(confusion_matrix(y_test, y_pred));"
   ]
  },
  {
   "cell_type": "markdown",
   "metadata": {
    "id": "SkQOyMEasubd"
   },
   "source": [
    "### $\\text{Hyperparameter Tunning: Bayesian Optimization}$"
   ]
  },
  {
   "cell_type": "code",
   "execution_count": 24,
   "metadata": {
    "id": "1hNA8QuYsPxJ"
   },
   "outputs": [],
   "source": [
    "def lgbm_cv(max_depth, learning_rate, \n",
    "            n_estimators, reg_alpha,\n",
    "            bagging_fraction, \n",
    "            min_child_weight, min_split_gain,\n",
    "            colsample_bytree):\n",
    "    \n",
    "    estimator_function = lgb.LGBMClassifier(max_depth=int(max_depth),\n",
    "                                            learning_rate = learning_rate,\n",
    "                                            bagging_fraction = bagging_fraction,\n",
    "                                            min_child_weight = min_child_weight,\n",
    "                                            min_split_gain = min_split_gain,\n",
    "                                            colsample_bytree = colsample_bytree,\n",
    "                                            n_estimators = int(n_estimators),\n",
    "                                            reg_alpha = reg_alpha, nthread = -1,\n",
    "                                            objective = 'binary', seed = 42)\n",
    "    \n",
    "    estimator_function.fit(X_train, y_train.values.reshape(len(y_train),))\n",
    "    probs = estimator_function.predict_proba(X_test)[:,1]\n",
    "    return roc_auc_score(y_test, probs)"
   ]
  },
  {
   "cell_type": "code",
   "execution_count": 25,
   "metadata": {
    "id": "UW17UKJrsPuE"
   },
   "outputs": [],
   "source": [
    "from bayes_opt import BayesianOptimization\n",
    "\n",
    "gp_params = {\"alpha\": 1e-10}\n",
    "\n",
    "hp_space = {\n",
    "    'max_depth': (5, 30),\n",
    "    'learning_rate': (.001, 1),\n",
    "    'n_estimators' : (10, 250),\n",
    "    'reg_alpha': (0, 1),\n",
    "    'bagging_fraction': (.8, 1),\n",
    "    'min_child_weight': (1, 25),\n",
    "    'min_split_gain': (.001, .1),\n",
    "    'colsample_bytree': (.1, 1)\n",
    "}\n",
    "\n",
    "lgbcBO = BayesianOptimization(f=lgbm_cv, pbounds=hp_space, random_state=42, verbose=10)"
   ]
  },
  {
   "cell_type": "code",
   "execution_count": 26,
   "metadata": {
    "id": "O12GSloVsPq9"
   },
   "outputs": [
    {
     "name": "stdout",
     "output_type": "stream",
     "text": [
      "|   iter    |  target   | baggin... | colsam... | learni... | max_depth | min_ch... | min_sp... | n_esti... | reg_alpha |\n",
      "-------------------------------------------------------------------------------------------------------------------------\n",
      "| \u001b[0m 1       \u001b[0m | \u001b[0m 0.5186  \u001b[0m | \u001b[0m 0.8749  \u001b[0m | \u001b[0m 0.9556  \u001b[0m | \u001b[0m 0.7323  \u001b[0m | \u001b[0m 19.97   \u001b[0m | \u001b[0m 4.744   \u001b[0m | \u001b[0m 0.01644 \u001b[0m | \u001b[0m 23.94   \u001b[0m | \u001b[0m 0.8662  \u001b[0m |\n",
      "| \u001b[0m 2       \u001b[0m | \u001b[0m 0.5161  \u001b[0m | \u001b[0m 0.9202  \u001b[0m | \u001b[0m 0.7373  \u001b[0m | \u001b[0m 0.02156 \u001b[0m | \u001b[0m 29.25   \u001b[0m | \u001b[0m 20.98   \u001b[0m | \u001b[0m 0.02202 \u001b[0m | \u001b[0m 53.64   \u001b[0m | \u001b[0m 0.1834  \u001b[0m |\n",
      "| \u001b[95m 3       \u001b[0m | \u001b[95m 0.5193  \u001b[0m | \u001b[95m 0.8608  \u001b[0m | \u001b[95m 0.5723  \u001b[0m | \u001b[95m 0.4325  \u001b[0m | \u001b[95m 12.28   \u001b[0m | \u001b[95m 15.68   \u001b[0m | \u001b[95m 0.01481 \u001b[0m | \u001b[95m 80.11   \u001b[0m | \u001b[95m 0.3664  \u001b[0m |\n",
      "| \u001b[0m 4       \u001b[0m | \u001b[0m 0.5178  \u001b[0m | \u001b[0m 0.8912  \u001b[0m | \u001b[0m 0.8067  \u001b[0m | \u001b[0m 0.2005  \u001b[0m | \u001b[0m 17.86   \u001b[0m | \u001b[0m 15.22   \u001b[0m | \u001b[0m 0.005599\u001b[0m | \u001b[0m 155.8   \u001b[0m | \u001b[0m 0.1705  \u001b[0m |\n",
      "| \u001b[0m 5       \u001b[0m | \u001b[0m 0.5097  \u001b[0m | \u001b[0m 0.813   \u001b[0m | \u001b[0m 0.954   \u001b[0m | \u001b[0m 0.9657  \u001b[0m | \u001b[0m 25.21   \u001b[0m | \u001b[0m 8.311   \u001b[0m | \u001b[0m 0.01067 \u001b[0m | \u001b[0m 174.2   \u001b[0m | \u001b[0m 0.4402  \u001b[0m |\n",
      "| \u001b[0m 6       \u001b[0m | \u001b[0m 0.514   \u001b[0m | \u001b[0m 0.8511  \u001b[0m | \u001b[0m 0.4572  \u001b[0m | \u001b[0m 0.6415  \u001b[0m | \u001b[0m 12.33   \u001b[0m | \u001b[0m 14.34   \u001b[0m | \u001b[0m 0.09002 \u001b[0m | \u001b[0m 80.82   \u001b[0m | \u001b[0m 0.966   \u001b[0m |\n",
      "| \u001b[0m 7       \u001b[0m | \u001b[0m 0.5159  \u001b[0m | \u001b[0m 0.9002  \u001b[0m | \u001b[0m 0.8857  \u001b[0m | \u001b[0m 0.8992  \u001b[0m | \u001b[0m 6.991   \u001b[0m | \u001b[0m 20.99   \u001b[0m | \u001b[0m 0.05373 \u001b[0m | \u001b[0m 164.4   \u001b[0m | \u001b[0m 0.1152  \u001b[0m |\n",
      "| \u001b[0m 8       \u001b[0m | \u001b[0m 0.5178  \u001b[0m | \u001b[0m 0.8273  \u001b[0m | \u001b[0m 0.7063  \u001b[0m | \u001b[0m 0.5117  \u001b[0m | \u001b[0m 5.656   \u001b[0m | \u001b[0m 2.333   \u001b[0m | \u001b[0m 0.02555 \u001b[0m | \u001b[0m 243.1   \u001b[0m | \u001b[0m 0.7896  \u001b[0m |\n",
      "| \u001b[0m 9       \u001b[0m | \u001b[0m 0.5116  \u001b[0m | \u001b[0m 0.9866  \u001b[0m | \u001b[0m 0.9057  \u001b[0m | \u001b[0m 0.9924  \u001b[0m | \u001b[0m 17.14   \u001b[0m | \u001b[0m 15.02   \u001b[0m | \u001b[0m 0.06232 \u001b[0m | \u001b[0m 156.0   \u001b[0m | \u001b[0m 0.9237  \u001b[0m |\n",
      "| \u001b[0m 10      \u001b[0m | \u001b[0m 0.5126  \u001b[0m | \u001b[0m 0.8523  \u001b[0m | \u001b[0m 0.838   \u001b[0m | \u001b[0m 0.9795  \u001b[0m | \u001b[0m 8.781   \u001b[0m | \u001b[0m 21.24   \u001b[0m | \u001b[0m 0.075   \u001b[0m | \u001b[0m 166.4   \u001b[0m | \u001b[0m 0.9066  \u001b[0m |\n",
      "| \u001b[0m 11      \u001b[0m | \u001b[0m 0.5146  \u001b[0m | \u001b[0m 0.9274  \u001b[0m | \u001b[0m 0.5022  \u001b[0m | \u001b[0m 0.6678  \u001b[0m | \u001b[0m 22.59   \u001b[0m | \u001b[0m 21.51   \u001b[0m | \u001b[0m 0.06441 \u001b[0m | \u001b[0m 187.5   \u001b[0m | \u001b[0m 0.4769  \u001b[0m |\n",
      "| \u001b[0m 12      \u001b[0m | \u001b[0m 0.5192  \u001b[0m | \u001b[0m 0.9344  \u001b[0m | \u001b[0m 0.798   \u001b[0m | \u001b[0m 0.1633  \u001b[0m | \u001b[0m 8.228   \u001b[0m | \u001b[0m 9.279   \u001b[0m | \u001b[0m 0.00382 \u001b[0m | \u001b[0m 38.59   \u001b[0m | \u001b[0m 0.9503  \u001b[0m |\n",
      "| \u001b[0m 13      \u001b[0m | \u001b[0m 0.5123  \u001b[0m | \u001b[0m 0.9516  \u001b[0m | \u001b[0m 0.9713  \u001b[0m | \u001b[0m 0.97    \u001b[0m | \u001b[0m 23.48   \u001b[0m | \u001b[0m 20.3    \u001b[0m | \u001b[0m 0.07335 \u001b[0m | \u001b[0m 172.4   \u001b[0m | \u001b[0m 0.905   \u001b[0m |\n",
      "| \u001b[95m 14      \u001b[0m | \u001b[95m 0.5228  \u001b[0m | \u001b[95m 0.9723  \u001b[0m | \u001b[95m 0.7068  \u001b[0m | \u001b[95m 0.0764  \u001b[0m | \u001b[95m 17.96   \u001b[0m | \u001b[95m 7.489   \u001b[0m | \u001b[95m 0.06791 \u001b[0m | \u001b[95m 126.3   \u001b[0m | \u001b[95m 0.6203  \u001b[0m |\n",
      "| \u001b[0m 15      \u001b[0m | \u001b[0m 0.5213  \u001b[0m | \u001b[0m 0.827   \u001b[0m | \u001b[0m 0.1253  \u001b[0m | \u001b[0m 0.4818  \u001b[0m | \u001b[0m 23.11   \u001b[0m | \u001b[0m 22.67   \u001b[0m | \u001b[0m 0.01586 \u001b[0m | \u001b[0m 208.6   \u001b[0m | \u001b[0m 0.6604  \u001b[0m |\n",
      "| \u001b[0m 16      \u001b[0m | \u001b[0m 0.5127  \u001b[0m | \u001b[0m 0.8834  \u001b[0m | \u001b[0m 0.5961  \u001b[0m | \u001b[0m 0.9611  \u001b[0m | \u001b[0m 22.39   \u001b[0m | \u001b[0m 22.94   \u001b[0m | \u001b[0m 0.001079\u001b[0m | \u001b[0m 244.9   \u001b[0m | \u001b[0m 0.2998  \u001b[0m |\n",
      "| \u001b[0m 17      \u001b[0m | \u001b[0m 0.519   \u001b[0m | \u001b[0m 0.9343  \u001b[0m | \u001b[0m 0.1903  \u001b[0m | \u001b[0m 0.3944  \u001b[0m | \u001b[0m 21.57   \u001b[0m | \u001b[0m 19.67   \u001b[0m | \u001b[0m 0.0578  \u001b[0m | \u001b[0m 68.84   \u001b[0m | \u001b[0m 0.9468  \u001b[0m |\n",
      "| \u001b[0m 18      \u001b[0m | \u001b[0m 0.52    \u001b[0m | \u001b[0m 0.9918  \u001b[0m | \u001b[0m 0.1461  \u001b[0m | \u001b[0m 0.6289  \u001b[0m | \u001b[0m 26.24   \u001b[0m | \u001b[0m 2.522   \u001b[0m | \u001b[0m 0.04389 \u001b[0m | \u001b[0m 10.28   \u001b[0m | \u001b[0m 0.05184 \u001b[0m |\n",
      "| \u001b[0m 19      \u001b[0m | \u001b[0m 0.5139  \u001b[0m | \u001b[0m 0.9573  \u001b[0m | \u001b[0m 0.2235  \u001b[0m | \u001b[0m 0.9353  \u001b[0m | \u001b[0m 13.03   \u001b[0m | \u001b[0m 15.34   \u001b[0m | \u001b[0m 0.09351 \u001b[0m | \u001b[0m 64.13   \u001b[0m | \u001b[0m 0.02298 \u001b[0m |\n",
      "| \u001b[0m 20      \u001b[0m | \u001b[0m 0.5139  \u001b[0m | \u001b[0m 0.9384  \u001b[0m | \u001b[0m 0.2844  \u001b[0m | \u001b[0m 0.7273  \u001b[0m | \u001b[0m 26.63   \u001b[0m | \u001b[0m 2.685   \u001b[0m | \u001b[0m 0.01052 \u001b[0m | \u001b[0m 55.14   \u001b[0m | \u001b[0m 0.5999  \u001b[0m |\n",
      "| \u001b[95m 21      \u001b[0m | \u001b[95m 0.5235  \u001b[0m | \u001b[95m 0.9165  \u001b[0m | \u001b[95m 0.1577  \u001b[0m | \u001b[95m 0.09519 \u001b[0m | \u001b[95m 14.35   \u001b[0m | \u001b[95m 17.38   \u001b[0m | \u001b[95m 0.04965 \u001b[0m | \u001b[95m 121.1   \u001b[0m | \u001b[95m 0.7585  \u001b[0m |\n",
      "| \u001b[95m 22      \u001b[0m | \u001b[95m 0.524   \u001b[0m | \u001b[95m 0.9448  \u001b[0m | \u001b[95m 0.3096  \u001b[0m | \u001b[95m 0.1382  \u001b[0m | \u001b[95m 8.417   \u001b[0m | \u001b[95m 19.66   \u001b[0m | \u001b[95m 0.06489 \u001b[0m | \u001b[95m 68.24   \u001b[0m | \u001b[95m 0.5054  \u001b[0m |\n",
      "| \u001b[0m 23      \u001b[0m | \u001b[0m 0.5174  \u001b[0m | \u001b[0m 0.949   \u001b[0m | \u001b[0m 0.3323  \u001b[0m | \u001b[0m 0.2336  \u001b[0m | \u001b[0m 28.63   \u001b[0m | \u001b[0m 1.549   \u001b[0m | \u001b[0m 0.0587  \u001b[0m | \u001b[0m 165.5   \u001b[0m | \u001b[0m 0.8866  \u001b[0m |\n",
      "| \u001b[0m 24      \u001b[0m | \u001b[0m 0.5143  \u001b[0m | \u001b[0m 0.8837  \u001b[0m | \u001b[0m 0.4155  \u001b[0m | \u001b[0m 0.5535  \u001b[0m | \u001b[0m 16.1    \u001b[0m | \u001b[0m 15.74   \u001b[0m | \u001b[0m 0.0127  \u001b[0m | \u001b[0m 86.93   \u001b[0m | \u001b[0m 0.8349  \u001b[0m |\n",
      "| \u001b[0m 25      \u001b[0m | \u001b[0m 0.5155  \u001b[0m | \u001b[0m 0.9587  \u001b[0m | \u001b[0m 0.4607  \u001b[0m | \u001b[0m 0.6232  \u001b[0m | \u001b[0m 19.69   \u001b[0m | \u001b[0m 4.977   \u001b[0m | \u001b[0m 0.05956 \u001b[0m | \u001b[0m 23.95   \u001b[0m | \u001b[0m 0.9252  \u001b[0m |\n",
      "=========================================================================================================================\n"
     ]
    }
   ],
   "source": [
    "lgbcBO.maximize(init_points=5, n_iter=20, acq='ucb', kappa= 3, **gp_params)"
   ]
  },
  {
   "cell_type": "code",
   "execution_count": null,
   "metadata": {
    "id": "uJeB-lMsJrfa"
   },
   "outputs": [],
   "source": []
  }
 ],
 "metadata": {
  "accelerator": "TPU",
  "colab": {
   "collapsed_sections": [],
   "name": "Janestreet LightGBM.ipynb",
   "provenance": []
  },
  "kernelspec": {
   "display_name": "Python 3",
   "language": "python",
   "name": "python3"
  },
  "language_info": {
   "codemirror_mode": {
    "name": "ipython",
    "version": 3
   },
   "file_extension": ".py",
   "mimetype": "text/x-python",
   "name": "python",
   "nbconvert_exporter": "python",
   "pygments_lexer": "ipython3",
   "version": "3.7.6"
  }
 },
 "nbformat": 4,
 "nbformat_minor": 1
}
