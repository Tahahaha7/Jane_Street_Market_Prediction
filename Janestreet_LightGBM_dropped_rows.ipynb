{
 "cells": [
  {
   "cell_type": "markdown",
   "metadata": {
    "id": "6_CdL6XCcV9a"
   },
   "source": [
    "# $\\text{Jane Street Market Prediction}$"
   ]
  },
  {
   "cell_type": "markdown",
   "metadata": {
    "id": "YN5hdEHxckI9"
   },
   "source": [
    "## $\\text{Getting the data}$"
   ]
  },
  {
   "cell_type": "markdown",
   "metadata": {},
   "source": [
    "## For Oscar:"
   ]
  },
  {
   "cell_type": "code",
   "execution_count": 20,
   "metadata": {},
   "outputs": [],
   "source": [
    "# Data\n",
    "import numpy as np\n",
    "import pandas as pd\n",
    "pd.set_option('display.max_columns', 500) #arbitrary large number, I wanna see all columns\n",
    "\n",
    "\n",
    "# Plotting\n",
    "import matplotlib.pyplot as plt\n",
    "import seaborn as sns; sns.set()\n",
    "\n",
    "#utilities\n",
    "import os\n",
    "from collections import Counter"
   ]
  },
  {
   "cell_type": "code",
   "execution_count": 21,
   "metadata": {},
   "outputs": [
    {
     "name": "stdout",
     "output_type": "stream",
     "text": [
      "CPU times: user 57 s, sys: 10 s, total: 1min 6s\n",
      "Wall time: 1min 11s\n"
     ]
    }
   ],
   "source": [
    "%%time\n",
    "working_dir = \"/Users/oscarengelbrektson/Documents/Minerva/Spring 2021 - San Francisco/Quantitative Trading/Jane Street Competition/data/\"\n",
    "\n",
    "train_data = pd.read_csv(working_dir + \"train.csv\")\n",
    "test_data_sample = pd.read_csv(working_dir + \"example_test.csv\")\n",
    "feature_data = pd.read_csv(working_dir + \"features.csv\")\n"
   ]
  },
  {
   "cell_type": "markdown",
   "metadata": {},
   "source": [
    "## For Taha"
   ]
  },
  {
   "cell_type": "code",
   "execution_count": 1,
   "metadata": {
    "colab": {
     "base_uri": "https://localhost:8080/"
    },
    "id": "0SAUcxFqv2oQ",
    "outputId": "03478b11-b83a-4fe8-ecc0-e58c3f38826a"
   },
   "outputs": [
    {
     "name": "stdout",
     "output_type": "stream",
     "text": [
      "Mounted at /content/gdrive\n"
     ]
    }
   ],
   "source": [
    "# getting access to Google Drive to retrieve data\n",
    "#from google.colab import drive\n",
    "#drive.mount('/content/gdrive')"
   ]
  },
  {
   "cell_type": "code",
   "execution_count": 2,
   "metadata": {
    "colab": {
     "base_uri": "https://localhost:8080/"
    },
    "id": "6QvyfvMLwUKX",
    "outputId": "e785c605-f6b5-4ce0-b4e0-4d4d45e0e84c"
   },
   "outputs": [
    {
     "name": "stdout",
     "output_type": "stream",
     "text": [
      "/content/gdrive/My Drive/Kaggle\n"
     ]
    }
   ],
   "source": [
    "# changing the working directory\n",
    "#%cd /content/gdrive/My Drive/Kaggle"
   ]
  },
  {
   "cell_type": "code",
   "execution_count": 3,
   "metadata": {
    "id": "lckIE5XFwZ0m"
   },
   "outputs": [],
   "source": [
    "'''\n",
    "!kaggle competitions download -c jane-street-market-prediction\n",
    "!unzip \\*.zip  && rm *.zip''';"
   ]
  },
  {
   "cell_type": "code",
   "execution_count": 7,
   "metadata": {
    "colab": {
     "base_uri": "https://localhost:8080/"
    },
    "id": "83lSp6EWUet9",
    "outputId": "ec978ba9-fc6a-48e2-e8fc-6c594f17d0bb"
   },
   "outputs": [
    {
     "name": "stdout",
     "output_type": "stream",
     "text": [
      "Wall time: 2min 7s\n"
     ]
    }
   ],
   "source": [
    "%%time\n",
    "train_data = pd.read_csv('C:/Users/Taha/Desktop/Spring 2021/JaneStreet/train.csv')"
   ]
  },
  {
   "cell_type": "code",
   "execution_count": 9,
   "metadata": {
    "colab": {
     "base_uri": "https://localhost:8080/"
    },
    "id": "Y181SDMKUrRv",
    "outputId": "48548331-57e3-40ff-b9c1-4b2b9fbd8b26"
   },
   "outputs": [],
   "source": [
    "# difference columns between train and test set\n",
    "#set(train_data.columns) - set(test_sample.columns)"
   ]
  },
  {
   "cell_type": "markdown",
   "metadata": {
    "id": "O-DO3WhVd0Gf"
   },
   "source": [
    "## $\\text{LightGMB}$"
   ]
  },
  {
   "cell_type": "markdown",
   "metadata": {
    "id": "yjyX3n4DJdf2"
   },
   "source": [
    "### $\\text{Data Processing}$"
   ]
  },
  {
   "cell_type": "code",
   "execution_count": 22,
   "metadata": {
    "id": "jqR4YUD0Jh6o"
   },
   "outputs": [],
   "source": [
    "train_data[\"action\"] = train_data[\"resp\"].apply(lambda x: int(x>0))"
   ]
  },
  {
   "cell_type": "code",
   "execution_count": 23,
   "metadata": {},
   "outputs": [],
   "source": [
    "cropped_train_data = train_data.loc[train_data.date > 85]"
   ]
  },
  {
   "cell_type": "code",
   "execution_count": 25,
   "metadata": {
    "colab": {
     "base_uri": "https://localhost:8080/"
    },
    "id": "pZylOrxiKUaJ",
    "outputId": "c10d91a2-8694-4ec7-f023-7c3f979de8f8"
   },
   "outputs": [
    {
     "name": "stderr",
     "output_type": "stream",
     "text": [
      "<ipython-input-25-2548ba76df17>:2: UserWarning: Boolean Series key will be reindexed to match DataFrame index.\n",
      "  validation_set = cropped_train_data[train_data.date > 350 + 85]\n",
      "<ipython-input-25-2548ba76df17>:3: UserWarning: Boolean Series key will be reindexed to match DataFrame index.\n",
      "  train_set = cropped_train_data[train_data.date <= 350 + 85]\n"
     ]
    },
    {
     "data": {
      "text/plain": [
       "(350, 64)"
      ]
     },
     "execution_count": 25,
     "metadata": {},
     "output_type": "execute_result"
    }
   ],
   "source": [
    "#Take 350 dates as training, and 64 as validation\n",
    "validation_set = cropped_train_data[train_data.date > 350 + 85]\n",
    "train_set = cropped_train_data[train_data.date <= 350 + 85]\n",
    "\n",
    "train_set.date.nunique(), validation_set.date.nunique()"
   ]
  },
  {
   "cell_type": "code",
   "execution_count": 26,
   "metadata": {
    "colab": {
     "base_uri": "https://localhost:8080/"
    },
    "id": "iLCOMzYiOjTe",
    "outputId": "1101dca4-d9a3-4f3d-c88a-1e9fea453046"
   },
   "outputs": [
    {
     "data": {
      "text/plain": [
       "14.39"
      ]
     },
     "execution_count": 26,
     "metadata": {},
     "output_type": "execute_result"
    }
   ],
   "source": [
    "# percentage of trades in the test set\n",
    "round(100*validation_set.shape[0] / (train_data.shape[0]), 2)"
   ]
  },
  {
   "cell_type": "code",
   "execution_count": 27,
   "metadata": {
    "id": "OD89plgmOinY"
   },
   "outputs": [],
   "source": [
    "predictors = list(set(train_data.columns) - {'resp', 'resp_1', 'resp_2', 'resp_3', 'resp_4', 'action', 'ts_id'})\n",
    "outcome = ['action']"
   ]
  },
  {
   "cell_type": "markdown",
   "metadata": {
    "id": "aTirm3HUqrMX"
   },
   "source": [
    "### $\\text{LightGBM: One Split}$"
   ]
  },
  {
   "cell_type": "code",
   "execution_count": 28,
   "metadata": {},
   "outputs": [],
   "source": [
    "from sklearn.model_selection import TimeSeriesSplit\n",
    "from sklearn.metrics import roc_auc_score, roc_curve, accuracy_score, confusion_matrix\n",
    "import lightgbm as lgb"
   ]
  },
  {
   "cell_type": "code",
   "execution_count": 29,
   "metadata": {
    "id": "X02XkFUmJkkB"
   },
   "outputs": [
    {
     "data": {
      "text/plain": [
       "LGBMClassifier()"
      ]
     },
     "execution_count": 29,
     "metadata": {},
     "output_type": "execute_result"
    }
   ],
   "source": [
    "X_train, X_validation, y_train, y_validation = train_set[predictors],  validation_set[predictors], train_set[outcome], validation_set[outcome]"
   ]
  },
  {
   "cell_type": "markdown",
   "metadata": {
    "id": "SkQOyMEasubd"
   },
   "source": [
    "### $\\text{Hyperparameter Tunning: Bayesian Optimization}$"
   ]
  },
  {
   "cell_type": "code",
   "execution_count": 33,
   "metadata": {
    "id": "1hNA8QuYsPxJ"
   },
   "outputs": [],
   "source": [
    "def lgbm_cv(learning_rate, num_leaves, \n",
    "            min_data_in_leaf, max_bin,\n",
    "            max_depth):\n",
    "    \n",
    "    estimator_function = lgb.LGBMClassifier(max_depth=int(max_depth),\n",
    "                                            learning_rate = learning_rate,\n",
    "                                            num_leaves = int(num_leaves),\n",
    "                                            min_data_in_leaf = int(min_data_in_leaf),\n",
    "                                            max_bin=int(max_bin),\n",
    "                                            objective = 'binary', \n",
    "                                            boosting= 'gbdt',\n",
    "                                            nthread=10,\n",
    "                                            seed = 42,\n",
    "                                            verbose = -1)\n",
    "    \n",
    "    estimator_function.fit(X_train, y_train.values.reshape(len(y_train),))\n",
    "    probs = estimator_function.predict_proba(X_validation)[:,1]\n",
    "    return roc_auc_score(y_validation, probs)"
   ]
  },
  {
   "cell_type": "code",
   "execution_count": 34,
   "metadata": {
    "id": "UW17UKJrsPuE"
   },
   "outputs": [],
   "source": [
    "from bayes_opt import BayesianOptimization\n",
    "\n",
    "gp_params = {\"alpha\": 1e-10}\n",
    "\n",
    "hp_space = {'learning_rate': (0.001, 0.1),\n",
    "          'num_leaves': (100, 300),\n",
    "          'min_data_in_leaf': (5, 20),\n",
    "          'max_bin': (150, 250),\n",
    "          'max_depth': (2, 15)}\n",
    "\n",
    "lgbcBO = BayesianOptimization(f=lgbm_cv, pbounds=hp_space, random_state=42, verbose=-1)"
   ]
  },
  {
   "cell_type": "code",
   "execution_count": 35,
   "metadata": {
    "id": "O12GSloVsPq9",
    "scrolled": false
   },
   "outputs": [
    {
     "name": "stdout",
     "output_type": "stream",
     "text": [
      "|   iter    |  target   | learni... |  max_bin  | max_depth | min_da... | num_le... |\n",
      "-------------------------------------------------------------------------------------\n",
      "[LightGBM] [Warning] num_threads is set with nthread=10, will be overridden by n_jobs=-1. Current value: num_threads=-1\n",
      "[LightGBM] [Warning] min_data_in_leaf is set=13, min_child_samples=20 will be ignored. Current value: min_data_in_leaf=13\n",
      "[LightGBM] [Warning] boosting is set=gbdt, boosting_type=gbdt will be ignored. Current value: boosting=gbdt\n",
      "| \u001b[0m 1       \u001b[0m | \u001b[0m 0.5222  \u001b[0m | \u001b[0m 0.03808 \u001b[0m | \u001b[0m 245.1   \u001b[0m | \u001b[0m 11.52   \u001b[0m | \u001b[0m 13.98   \u001b[0m | \u001b[0m 131.2   \u001b[0m |\n",
      "[LightGBM] [Warning] num_threads is set with nthread=10, will be overridden by n_jobs=-1. Current value: num_threads=-1\n",
      "[LightGBM] [Warning] min_data_in_leaf is set=14, min_child_samples=20 will be ignored. Current value: min_data_in_leaf=14\n",
      "[LightGBM] [Warning] boosting is set=gbdt, boosting_type=gbdt will be ignored. Current value: boosting=gbdt\n",
      "| \u001b[0m 2       \u001b[0m | \u001b[0m 0.5194  \u001b[0m | \u001b[0m 0.01644 \u001b[0m | \u001b[0m 155.8   \u001b[0m | \u001b[0m 13.26   \u001b[0m | \u001b[0m 14.02   \u001b[0m | \u001b[0m 241.6   \u001b[0m |\n",
      "[LightGBM] [Warning] num_threads is set with nthread=10, will be overridden by n_jobs=-1. Current value: num_threads=-1\n",
      "[LightGBM] [Warning] min_data_in_leaf is set=8, min_child_samples=20 will be ignored. Current value: min_data_in_leaf=8\n",
      "[LightGBM] [Warning] boosting is set=gbdt, boosting_type=gbdt will be ignored. Current value: boosting=gbdt\n",
      "| \u001b[0m 3       \u001b[0m | \u001b[0m 0.5128  \u001b[0m | \u001b[0m 0.003038\u001b[0m | \u001b[0m 247.0   \u001b[0m | \u001b[0m 12.82   \u001b[0m | \u001b[0m 8.185   \u001b[0m | \u001b[0m 136.4   \u001b[0m |\n",
      "[LightGBM] [Warning] num_threads is set with nthread=10, will be overridden by n_jobs=-1. Current value: num_threads=-1\n",
      "[LightGBM] [Warning] min_data_in_leaf is set=11, min_child_samples=20 will be ignored. Current value: min_data_in_leaf=11\n",
      "[LightGBM] [Warning] boosting is set=gbdt, boosting_type=gbdt will be ignored. Current value: boosting=gbdt\n",
      "| \u001b[0m 4       \u001b[0m | \u001b[0m 0.5201  \u001b[0m | \u001b[0m 0.01916 \u001b[0m | \u001b[0m 180.4   \u001b[0m | \u001b[0m 8.822   \u001b[0m | \u001b[0m 11.48   \u001b[0m | \u001b[0m 158.2   \u001b[0m |\n",
      "[LightGBM] [Warning] num_threads is set with nthread=10, will be overridden by n_jobs=-1. Current value: num_threads=-1\n",
      "[LightGBM] [Warning] min_data_in_leaf is set=10, min_child_samples=20 will be ignored. Current value: min_data_in_leaf=10\n",
      "[LightGBM] [Warning] boosting is set=gbdt, boosting_type=gbdt will be ignored. Current value: boosting=gbdt\n",
      "| \u001b[0m 5       \u001b[0m | \u001b[0m 0.522   \u001b[0m | \u001b[0m 0.06157 \u001b[0m | \u001b[0m 163.9   \u001b[0m | \u001b[0m 5.798   \u001b[0m | \u001b[0m 10.5    \u001b[0m | \u001b[0m 191.2   \u001b[0m |\n",
      "[LightGBM] [Warning] num_threads is set with nthread=10, will be overridden by n_jobs=-1. Current value: num_threads=-1\n",
      "[LightGBM] [Warning] min_data_in_leaf is set=17, min_child_samples=20 will be ignored. Current value: min_data_in_leaf=17\n",
      "[LightGBM] [Warning] boosting is set=gbdt, boosting_type=gbdt will be ignored. Current value: boosting=gbdt\n",
      "| \u001b[95m 6       \u001b[0m | \u001b[95m 0.5255  \u001b[0m | \u001b[95m 0.03932 \u001b[0m | \u001b[95m 219.1   \u001b[0m | \u001b[95m 5.355   \u001b[0m | \u001b[95m 17.48   \u001b[0m | \u001b[95m 222.0   \u001b[0m |\n",
      "[LightGBM] [Warning] num_threads is set with nthread=10, will be overridden by n_jobs=-1. Current value: num_threads=-1\n",
      "[LightGBM] [Warning] min_data_in_leaf is set=18, min_child_samples=20 will be ignored. Current value: min_data_in_leaf=18\n",
      "[LightGBM] [Warning] boosting is set=gbdt, boosting_type=gbdt will be ignored. Current value: boosting=gbdt\n",
      "| \u001b[95m 7       \u001b[0m | \u001b[95m 0.5268  \u001b[0m | \u001b[95m 0.09073 \u001b[0m | \u001b[95m 160.5   \u001b[0m | \u001b[95m 3.915   \u001b[0m | \u001b[95m 18.88   \u001b[0m | \u001b[95m 254.1   \u001b[0m |\n",
      "[LightGBM] [Warning] num_threads is set with nthread=10, will be overridden by n_jobs=-1. Current value: num_threads=-1\n",
      "[LightGBM] [Warning] min_data_in_leaf is set=6, min_child_samples=20 will be ignored. Current value: min_data_in_leaf=6\n",
      "[LightGBM] [Warning] boosting is set=gbdt, boosting_type=gbdt will be ignored. Current value: boosting=gbdt\n",
      "| \u001b[0m 8       \u001b[0m | \u001b[0m 0.5229  \u001b[0m | \u001b[0m 0.05882 \u001b[0m | \u001b[0m 154.8   \u001b[0m | \u001b[0m 2.466   \u001b[0m | \u001b[0m 6.568   \u001b[0m | \u001b[0m 146.6   \u001b[0m |\n",
      "[LightGBM] [Warning] num_threads is set with nthread=10, will be overridden by n_jobs=-1. Current value: num_threads=-1\n",
      "[LightGBM] [Warning] min_data_in_leaf is set=11, min_child_samples=20 will be ignored. Current value: min_data_in_leaf=11\n",
      "[LightGBM] [Warning] boosting is set=gbdt, boosting_type=gbdt will be ignored. Current value: boosting=gbdt\n",
      "| \u001b[0m 9       \u001b[0m | \u001b[0m 0.5203  \u001b[0m | \u001b[0m 0.04739 \u001b[0m | \u001b[0m 249.3   \u001b[0m | \u001b[0m 13.98   \u001b[0m | \u001b[0m 11.48   \u001b[0m | \u001b[0m 163.1   \u001b[0m |\n",
      "[LightGBM] [Warning] num_threads is set with nthread=10, will be overridden by n_jobs=-1. Current value: num_threads=-1\n",
      "[LightGBM] [Warning] min_data_in_leaf is set=9, min_child_samples=20 will be ignored. Current value: min_data_in_leaf=9\n",
      "[LightGBM] [Warning] boosting is set=gbdt, boosting_type=gbdt will be ignored. Current value: boosting=gbdt\n",
      "| \u001b[0m 10      \u001b[0m | \u001b[0m 0.524   \u001b[0m | \u001b[0m 0.08095 \u001b[0m | \u001b[0m 167.6   \u001b[0m | \u001b[0m 6.117   \u001b[0m | \u001b[0m 9.033   \u001b[0m | \u001b[0m 245.2   \u001b[0m |\n",
      "[LightGBM] [Warning] num_threads is set with nthread=10, will be overridden by n_jobs=-1. Current value: num_threads=-1\n",
      "[LightGBM] [Warning] min_data_in_leaf is set=13, min_child_samples=20 will be ignored. Current value: min_data_in_leaf=13\n",
      "[LightGBM] [Warning] boosting is set=gbdt, boosting_type=gbdt will be ignored. Current value: boosting=gbdt\n",
      "| \u001b[0m 11      \u001b[0m | \u001b[0m 0.5199  \u001b[0m | \u001b[0m 0.04964 \u001b[0m | \u001b[0m 175.6   \u001b[0m | \u001b[0m 11.56   \u001b[0m | \u001b[0m 13.94   \u001b[0m | \u001b[0m 259.6   \u001b[0m |\n",
      "[LightGBM] [Warning] num_threads is set with nthread=10, will be overridden by n_jobs=-1. Current value: num_threads=-1\n",
      "[LightGBM] [Warning] min_data_in_leaf is set=9, min_child_samples=20 will be ignored. Current value: min_data_in_leaf=9\n",
      "[LightGBM] [Warning] boosting is set=gbdt, boosting_type=gbdt will be ignored. Current value: boosting=gbdt\n",
      "| \u001b[0m 12      \u001b[0m | \u001b[0m 0.5152  \u001b[0m | \u001b[0m 0.008471\u001b[0m | \u001b[0m 231.2   \u001b[0m | \u001b[0m 8.067   \u001b[0m | \u001b[0m 9.587   \u001b[0m | \u001b[0m 159.7   \u001b[0m |\n",
      "[LightGBM] [Warning] num_threads is set with nthread=10, will be overridden by n_jobs=-1. Current value: num_threads=-1\n",
      "[LightGBM] [Warning] min_data_in_leaf is set=16, min_child_samples=20 will be ignored. Current value: min_data_in_leaf=16\n",
      "[LightGBM] [Warning] boosting is set=gbdt, boosting_type=gbdt will be ignored. Current value: boosting=gbdt\n",
      "| \u001b[0m 13      \u001b[0m | \u001b[0m 0.5181  \u001b[0m | \u001b[0m 0.009168\u001b[0m | \u001b[0m 240.4   \u001b[0m | \u001b[0m 9.719   \u001b[0m | \u001b[0m 16.25   \u001b[0m | \u001b[0m 249.6   \u001b[0m |\n",
      "[LightGBM] [Warning] num_threads is set with nthread=10, will be overridden by n_jobs=-1. Current value: num_threads=-1\n",
      "[LightGBM] [Warning] min_data_in_leaf is set=11, min_child_samples=20 will be ignored. Current value: min_data_in_leaf=11\n",
      "[LightGBM] [Warning] boosting is set=gbdt, boosting_type=gbdt will be ignored. Current value: boosting=gbdt\n",
      "| \u001b[0m 14      \u001b[0m | \u001b[0m 0.5189  \u001b[0m | \u001b[0m 0.07309 \u001b[0m | \u001b[0m 216.7   \u001b[0m | \u001b[0m 14.93   \u001b[0m | \u001b[0m 11.1    \u001b[0m | \u001b[0m 207.7   \u001b[0m |\n",
      "[LightGBM] [Warning] num_threads is set with nthread=10, will be overridden by n_jobs=-1. Current value: num_threads=-1\n",
      "[LightGBM] [Warning] min_data_in_leaf is set=7, min_child_samples=20 will be ignored. Current value: min_data_in_leaf=7\n",
      "[LightGBM] [Warning] boosting is set=gbdt, boosting_type=gbdt will be ignored. Current value: boosting=gbdt\n",
      "| \u001b[0m 15      \u001b[0m | \u001b[0m 0.5176  \u001b[0m | \u001b[0m 0.01423 \u001b[0m | \u001b[0m 223.7   \u001b[0m | \u001b[0m 5.918   \u001b[0m | \u001b[0m 7.843   \u001b[0m | \u001b[0m 145.4   \u001b[0m |\n",
      "[LightGBM] [Warning] num_threads is set with nthread=10, will be overridden by n_jobs=-1. Current value: num_threads=-1\n",
      "[LightGBM] [Warning] min_data_in_leaf is set=16, min_child_samples=20 will be ignored. Current value: min_data_in_leaf=16\n",
      "[LightGBM] [Warning] boosting is set=gbdt, boosting_type=gbdt will be ignored. Current value: boosting=gbdt\n",
      "| \u001b[0m 16      \u001b[0m | \u001b[0m 0.5203  \u001b[0m | \u001b[0m 0.02787 \u001b[0m | \u001b[0m 215.2   \u001b[0m | \u001b[0m 2.808   \u001b[0m | \u001b[0m 16.21   \u001b[0m | \u001b[0m 291.9   \u001b[0m |\n",
      "[LightGBM] [Warning] num_threads is set with nthread=10, will be overridden by n_jobs=-1. Current value: num_threads=-1\n",
      "[LightGBM] [Warning] min_data_in_leaf is set=18, min_child_samples=20 will be ignored. Current value: min_data_in_leaf=18\n",
      "[LightGBM] [Warning] boosting is set=gbdt, boosting_type=gbdt will be ignored. Current value: boosting=gbdt\n"
     ]
    },
    {
     "name": "stdout",
     "output_type": "stream",
     "text": [
      "| \u001b[0m 17      \u001b[0m | \u001b[0m 0.5182  \u001b[0m | \u001b[0m 0.01722 \u001b[0m | \u001b[0m 160.1   \u001b[0m | \u001b[0m 5.093   \u001b[0m | \u001b[0m 18.68   \u001b[0m | \u001b[0m 259.0   \u001b[0m |\n",
      "[LightGBM] [Warning] num_threads is set with nthread=10, will be overridden by n_jobs=-1. Current value: num_threads=-1\n",
      "[LightGBM] [Warning] min_data_in_leaf is set=19, min_child_samples=20 will be ignored. Current value: min_data_in_leaf=19\n",
      "[LightGBM] [Warning] boosting is set=gbdt, boosting_type=gbdt will be ignored. Current value: boosting=gbdt\n",
      "| \u001b[0m 18      \u001b[0m | \u001b[0m 0.5194  \u001b[0m | \u001b[0m 0.07797 \u001b[0m | \u001b[0m 185.8   \u001b[0m | \u001b[0m 12.89   \u001b[0m | \u001b[0m 19.02   \u001b[0m | \u001b[0m 132.6   \u001b[0m |\n",
      "[LightGBM] [Warning] num_threads is set with nthread=10, will be overridden by n_jobs=-1. Current value: num_threads=-1\n",
      "[LightGBM] [Warning] min_data_in_leaf is set=9, min_child_samples=20 will be ignored. Current value: min_data_in_leaf=9\n",
      "[LightGBM] [Warning] boosting is set=gbdt, boosting_type=gbdt will be ignored. Current value: boosting=gbdt\n",
      "| \u001b[0m 19      \u001b[0m | \u001b[0m 0.5227  \u001b[0m | \u001b[0m 0.05106 \u001b[0m | \u001b[0m 201.2   \u001b[0m | \u001b[0m 12.29   \u001b[0m | \u001b[0m 9.956   \u001b[0m | \u001b[0m 284.5   \u001b[0m |\n",
      "[LightGBM] [Warning] num_threads is set with nthread=10, will be overridden by n_jobs=-1. Current value: num_threads=-1\n",
      "[LightGBM] [Warning] min_data_in_leaf is set=7, min_child_samples=20 will be ignored. Current value: min_data_in_leaf=7\n",
      "[LightGBM] [Warning] boosting is set=gbdt, boosting_type=gbdt will be ignored. Current value: boosting=gbdt\n",
      "| \u001b[0m 20      \u001b[0m | \u001b[0m 0.5206  \u001b[0m | \u001b[0m 0.08652 \u001b[0m | \u001b[0m 207.2   \u001b[0m | \u001b[0m 7.411   \u001b[0m | \u001b[0m 7.749   \u001b[0m | \u001b[0m 156.3   \u001b[0m |\n",
      "[LightGBM] [Warning] num_threads is set with nthread=10, will be overridden by n_jobs=-1. Current value: num_threads=-1\n",
      "[LightGBM] [Warning] min_data_in_leaf is set=7, min_child_samples=20 will be ignored. Current value: min_data_in_leaf=7\n",
      "[LightGBM] [Warning] boosting is set=gbdt, boosting_type=gbdt will be ignored. Current value: boosting=gbdt\n",
      "| \u001b[0m 21      \u001b[0m | \u001b[0m 0.5245  \u001b[0m | \u001b[0m 0.06286 \u001b[0m | \u001b[0m 226.3   \u001b[0m | \u001b[0m 6.986   \u001b[0m | \u001b[0m 7.849   \u001b[0m | \u001b[0m 267.5   \u001b[0m |\n",
      "[LightGBM] [Warning] num_threads is set with nthread=10, will be overridden by n_jobs=-1. Current value: num_threads=-1\n",
      "[LightGBM] [Warning] min_data_in_leaf is set=7, min_child_samples=20 will be ignored. Current value: min_data_in_leaf=7\n",
      "[LightGBM] [Warning] boosting is set=gbdt, boosting_type=gbdt will be ignored. Current value: boosting=gbdt\n",
      "| \u001b[0m 22      \u001b[0m | \u001b[0m 0.5238  \u001b[0m | \u001b[0m 0.05705 \u001b[0m | \u001b[0m 155.2   \u001b[0m | \u001b[0m 6.734   \u001b[0m | \u001b[0m 7.449   \u001b[0m | \u001b[0m 131.0   \u001b[0m |\n",
      "[LightGBM] [Warning] num_threads is set with nthread=10, will be overridden by n_jobs=-1. Current value: num_threads=-1\n",
      "[LightGBM] [Warning] min_data_in_leaf is set=13, min_child_samples=20 will be ignored. Current value: min_data_in_leaf=13\n",
      "[LightGBM] [Warning] boosting is set=gbdt, boosting_type=gbdt will be ignored. Current value: boosting=gbdt\n",
      "| \u001b[0m 23      \u001b[0m | \u001b[0m 0.5212  \u001b[0m | \u001b[0m 0.05407 \u001b[0m | \u001b[0m 230.2   \u001b[0m | \u001b[0m 12.74   \u001b[0m | \u001b[0m 13.24   \u001b[0m | \u001b[0m 209.2   \u001b[0m |\n",
      "[LightGBM] [Warning] num_threads is set with nthread=10, will be overridden by n_jobs=-1. Current value: num_threads=-1\n",
      "[LightGBM] [Warning] min_data_in_leaf is set=11, min_child_samples=20 will be ignored. Current value: min_data_in_leaf=11\n",
      "[LightGBM] [Warning] boosting is set=gbdt, boosting_type=gbdt will be ignored. Current value: boosting=gbdt\n",
      "| \u001b[0m 24      \u001b[0m | \u001b[0m 0.5182  \u001b[0m | \u001b[0m 0.01743 \u001b[0m | \u001b[0m 163.3   \u001b[0m | \u001b[0m 5.301   \u001b[0m | \u001b[0m 11.47   \u001b[0m | \u001b[0m 190.7   \u001b[0m |\n",
      "[LightGBM] [Warning] num_threads is set with nthread=10, will be overridden by n_jobs=-1. Current value: num_threads=-1\n",
      "[LightGBM] [Warning] min_data_in_leaf is set=15, min_child_samples=20 will be ignored. Current value: min_data_in_leaf=15\n",
      "[LightGBM] [Warning] boosting is set=gbdt, boosting_type=gbdt will be ignored. Current value: boosting=gbdt\n",
      "| \u001b[0m 25      \u001b[0m | \u001b[0m 0.5204  \u001b[0m | \u001b[0m 0.04421 \u001b[0m | \u001b[0m 165.1   \u001b[0m | \u001b[0m 9.516   \u001b[0m | \u001b[0m 15.87   \u001b[0m | \u001b[0m 127.2   \u001b[0m |\n",
      "=====================================================================================\n"
     ]
    }
   ],
   "source": [
    "lgbcBO.maximize(init_points=5, n_iter=20, acq='ucb', kappa= 3, **gp_params)"
   ]
  },
  {
   "cell_type": "code",
   "execution_count": 36,
   "metadata": {},
   "outputs": [
    {
     "data": {
      "text/plain": [
       "0.5268441051319724"
      ]
     },
     "execution_count": 36,
     "metadata": {},
     "output_type": "execute_result"
    }
   ],
   "source": [
    "#Best accuracy:\n",
    "lgbcBO.max[\"target\"]"
   ]
  },
  {
   "cell_type": "code",
   "execution_count": 37,
   "metadata": {},
   "outputs": [
    {
     "data": {
      "text/plain": [
       "{'learning_rate': 0.09073187147889872,\n",
       " 'max_bin': 160.5356704543628,\n",
       " 'max_depth': 3.914569092358141,\n",
       " 'min_data_in_leaf': 18.879331315667216,\n",
       " 'num_leaves': 254.14088082966137}"
      ]
     },
     "execution_count": 37,
     "metadata": {},
     "output_type": "execute_result"
    }
   ],
   "source": [
    "best_params = lgbcBO.max[\"params\"]\n",
    "best_params"
   ]
  },
  {
   "cell_type": "markdown",
   "metadata": {},
   "source": [
    "# Compute utility score depending on decision threshold'"
   ]
  },
  {
   "cell_type": "code",
   "execution_count": 38,
   "metadata": {},
   "outputs": [],
   "source": [
    "y_pred_probs = lgb_model.predict_proba(X_validation)"
   ]
  },
  {
   "cell_type": "code",
   "execution_count": 39,
   "metadata": {
    "scrolled": true
   },
   "outputs": [
    {
     "name": "stderr",
     "output_type": "stream",
     "text": [
      "<ipython-input-39-9d3c100330eb>:1: SettingWithCopyWarning: \n",
      "A value is trying to be set on a copy of a slice from a DataFrame.\n",
      "Try using .loc[row_indexer,col_indexer] = value instead\n",
      "\n",
      "See the caveats in the documentation: https://pandas.pydata.org/pandas-docs/stable/user_guide/indexing.html#returning-a-view-versus-a-copy\n",
      "  validation_set[\"lgbm_predicted_prob\"] = y_pred_probs[:, 1] #Probability of target=1\n"
     ]
    }
   ],
   "source": [
    "validation_set[\"lgbm_predicted_prob\"] = y_pred_probs[:, 1] #Probability of target=1"
   ]
  },
  {
   "cell_type": "code",
   "execution_count": 40,
   "metadata": {},
   "outputs": [],
   "source": [
    "def utility_score_last(date, weight, resp, action):\n",
    "    '''\n",
    "    Takes four 1-d arrays of equal size:\n",
    "    Date: int\n",
    "    weight: float >= 0\n",
    "    resp: float\n",
    "    action: binary\n",
    "    \n",
    "    and returns jane street utility score, u\n",
    "    '''\n",
    "    count_i = date.nunique() # Get number of days\n",
    "    P_i = np.bincount(date, weight * resp * action) # Compute P_i\n",
    "    t = np.sum(P_i) / np.sqrt(np.sum(P_i ** 2)) * np.sqrt(250 / count_i) # Compute t\n",
    "    u = np.clip(t, 0, 6) * np.sum(P_i) # Combine to get utility score\n",
    "    return u\n",
    "\n",
    "def get_utility_from_df(df, decision_threshold=0.5):\n",
    "    '''\n",
    "    Takes a dataframe and a decision threshold, \n",
    "    computes the total utility given the decision threshold for converting predicted probabilities to actions\n",
    "    '''\n",
    "    return utility_score_last(df.date, df.weight, df.resp, \n",
    "                              df.lgbm_predicted_prob.apply(lambda proba: int(proba > decision_threshold)))"
   ]
  },
  {
   "cell_type": "code",
   "execution_count": 41,
   "metadata": {},
   "outputs": [
    {
     "name": "stderr",
     "output_type": "stream",
     "text": [
      "<ipython-input-40-1f5466e7d848>:13: RuntimeWarning: invalid value encountered in double_scalars\n",
      "  t = np.sum(P_i) / np.sqrt(np.sum(P_i ** 2)) * np.sqrt(250 / count_i) # Compute t\n"
     ]
    }
   ],
   "source": [
    "thresholds =  np.linspace(0, 1, 200)\n",
    "utility_by_threshold = [get_utility_from_df(validation_set, threshold) for threshold in thresholds]\n"
   ]
  },
  {
   "cell_type": "code",
   "execution_count": 42,
   "metadata": {},
   "outputs": [],
   "source": [
    "best_threshold = thresholds[utility_by_threshold.index(max(utility_by_threshold))]"
   ]
  },
  {
   "cell_type": "code",
   "execution_count": 43,
   "metadata": {},
   "outputs": [
    {
     "data": {
      "image/png": "[encoded data removed]",
      "text/plain": [
       "<Figure size 1152x576 with 1 Axes>"
      ]
     },
     "metadata": {},
     "output_type": "display_data"
    }
   ],
   "source": [
    "# Visualize\n",
    "plt.figure(figsize=(16, 8))\n",
    "plt.plot(thresholds, utility_by_threshold, label=\"Best utility: %s\"%np.round(max(utility_by_threshold), 3))\n",
    "plt.axvline(best_threshold, \n",
    "            color=\"red\", linestyle=\"--\",label=\"Best threshold: %s\"%np.round(best_threshold, 3))\n",
    "plt.ylabel(\"Utility\")\n",
    "plt.xlabel(\"Decision Boundary\")\n",
    "plt.legend(loc=4)\n",
    "plt.show()"
   ]
  },
  {
   "cell_type": "markdown",
   "metadata": {},
   "source": [
    "# Compute test set utility"
   ]
  },
  {
   "cell_type": "code",
   "execution_count": 100,
   "metadata": {},
   "outputs": [
    {
     "ename": "ModuleNotFoundError",
     "evalue": "No module named 'janestreet.competition'",
     "output_type": "error",
     "traceback": [
      "\u001b[0;31m---------------------------------------------------------------------------\u001b[0m",
      "\u001b[0;31mModuleNotFoundError\u001b[0m                       Traceback (most recent call last)",
      "\u001b[0;32m<ipython-input-100-de4d6d191672>\u001b[0m in \u001b[0;36m<module>\u001b[0;34m\u001b[0m\n\u001b[0;32m----> 1\u001b[0;31m \u001b[0;32mimport\u001b[0m \u001b[0mjanestreet\u001b[0m\u001b[0;34m\u001b[0m\u001b[0;34m\u001b[0m\u001b[0m\n\u001b[0m\u001b[1;32m      2\u001b[0m \u001b[0menv\u001b[0m \u001b[0;34m=\u001b[0m \u001b[0mjanestreet\u001b[0m\u001b[0;34m.\u001b[0m\u001b[0mmake_env\u001b[0m\u001b[0;34m(\u001b[0m\u001b[0;34m)\u001b[0m\u001b[0;34m\u001b[0m\u001b[0;34m\u001b[0m\u001b[0m\n\u001b[1;32m      3\u001b[0m \u001b[0menv_iter\u001b[0m \u001b[0;34m=\u001b[0m \u001b[0menv\u001b[0m\u001b[0;34m.\u001b[0m\u001b[0miter_test\u001b[0m\u001b[0;34m(\u001b[0m\u001b[0;34m)\u001b[0m\u001b[0;34m\u001b[0m\u001b[0;34m\u001b[0m\u001b[0m\n",
      "\u001b[0;32m~/Documents/Minerva/Capstone_Project/Jane_Street_Market_Prediction/janestreet/__init__.py\u001b[0m in \u001b[0;36m<module>\u001b[0;34m\u001b[0m\n\u001b[1;32m      1\u001b[0m \u001b[0;34m\u001b[0m\u001b[0m\n\u001b[0;32m----> 2\u001b[0;31m \u001b[0;32mfrom\u001b[0m \u001b[0;34m.\u001b[0m\u001b[0mcompetition\u001b[0m \u001b[0;32mimport\u001b[0m \u001b[0mmake_env\u001b[0m\u001b[0;34m\u001b[0m\u001b[0;34m\u001b[0m\u001b[0m\n\u001b[0m\u001b[1;32m      3\u001b[0m \u001b[0;34m\u001b[0m\u001b[0m\n\u001b[1;32m      4\u001b[0m \u001b[0m__all__\u001b[0m \u001b[0;34m=\u001b[0m \u001b[0;34m[\u001b[0m\u001b[0;34m'make_env'\u001b[0m\u001b[0;34m]\u001b[0m\u001b[0;34m\u001b[0m\u001b[0;34m\u001b[0m\u001b[0m\n",
      "\u001b[0;31mModuleNotFoundError\u001b[0m: No module named 'janestreet.competition'"
     ]
    }
   ],
   "source": [
    "import janestreet\n",
    "env = janestreet.make_env()\n",
    "env_iter = env.iter_validation()"
   ]
  }
 ],
 "metadata": {
  "accelerator": "TPU",
  "colab": {
   "collapsed_sections": [],
   "name": "Janestreet LightGBM.ipynb",
   "provenance": []
  },
  "kernelspec": {
   "display_name": "Python 3",
   "language": "python",
   "name": "python3"
  },
  "language_info": {
   "codemirror_mode": {
    "name": "ipython",
    "version": 3
   },
   "file_extension": ".py",
   "mimetype": "text/x-python",
   "name": "python",
   "nbconvert_exporter": "python",
   "pygments_lexer": "ipython3",
   "version": "3.8.1"
  }
 },
 "nbformat": 4,
 "nbformat_minor": 1
}
